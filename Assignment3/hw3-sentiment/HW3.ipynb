{
 "cells": [
  {
   "cell_type": "markdown",
   "metadata": {},
   "source": [
    "# 4.1 The Data"
   ]
  },
  {
   "cell_type": "code",
   "execution_count": 547,
   "metadata": {
    "collapsed": false
   },
   "outputs": [],
   "source": [
    "import os\n",
    "import numpy as np\n",
    "import pickle\n",
    "import random\n",
    "\n",
    "'''\n",
    "Note: No obligation to use this code, though you may if you like.  Skeleton code is just a hint for people who are not familiar with text processing in python. \n",
    "It is not necessary to follow. \n",
    "'''\n",
    "\n",
    "def read_data_1grams(file):\n",
    "    '''\n",
    "    Read each file into a list of strings. \n",
    "    Example:\n",
    "    [\"it's\", 'a', 'curious', 'thing', \"i've\", 'found', 'that', 'when', 'willis', 'is', 'not', 'called', 'on', \n",
    "    ...'to', 'carry', 'the', 'whole', 'movie', \"he's\", 'much', 'better', 'and', 'so', 'is', 'the', 'movie']\n",
    "    '''\n",
    "    f = open(file)\n",
    "    lines = f.read().split(' ')\n",
    "    symbols = '${}()[].,:;+-*/&|<>=~\" '\n",
    "    words = map(lambda Element: Element.translate(None, symbols).strip(), lines)\n",
    "    words = filter(None, words)\n",
    "    return words\n",
    "\n",
    "\n",
    "\n",
    "def folder_list(path,label, read_data_func = read_data_1grams):\n",
    "    '''\n",
    "    PARAMETER PATH IS THE PATH OF YOUR LOCAL FOLDER\n",
    "    '''\n",
    "    filelist = os.listdir(path)\n",
    "    review = []\n",
    "    for infile in filelist:\n",
    "        file = os.path.join(path,infile)\n",
    "        r = read_data_func(file)\n",
    "        r.append(label)\n",
    "        review.append(r)\n",
    "    return review\n",
    "###############################################\n",
    "######## YOUR CODE STARTS FROM HERE. ##########\n",
    "###############################################\n",
    "\n",
    "\n",
    "def read_data_bigrams(file):\n",
    "    '''\n",
    "    Read each file into a list of strings. \n",
    "    Example:\n",
    "    [\"it's\", 'a', 'curious', 'thing', \"i've\", 'found', 'that', 'when', 'willis', 'is', 'not', 'called', 'on', \n",
    "    ...'to', 'carry', 'the', 'whole', 'movie', \"he's\", 'much', 'better', 'and', 'so', 'is', 'the', 'movie']\n",
    "    '''\n",
    "    f = open(file)\n",
    "    lines = f.read().split(' ')\n",
    "    symbols = '${}()[].,:;+-*/&|<>=~\" '\n",
    "    words = map(lambda Element: Element.translate(None, symbols).strip(), lines)\n",
    "    words = filter(None, words)\n",
    "    bigrams = ['{} {}'.format(words[i], words[i+1]) for i in range(len(words)-1)]\n",
    "    words.extend(bigrams)\n",
    "    return words\n",
    "\n",
    "def shuffle_data(pickle_path = \"all_data_pickled.p\", feature_set_func = read_data_1grams):\n",
    "    '''\n",
    "    pos_path is where you save positive review data.\n",
    "    neg_path is where you save negative review data.\n",
    "    pickle_path is where you save the data\n",
    "    '''\n",
    "    neg_path = \"/Users/benjaminjakubowski/Desktop/MS_Courses/ML/HW_assignments/Assignment3/hw3-sentiment/data/neg\"\n",
    "    pos_path = \"/Users/benjaminjakubowski/Desktop/MS_Courses/ML/HW_assignments/Assignment3/hw3-sentiment/data/pos\"\n",
    "    \n",
    "    pos_review = folder_list(pos_path,1, feature_set_func)\n",
    "    neg_review = folder_list(neg_path,-1, feature_set_func)\n",
    "    \n",
    "    review = pos_review + neg_review\n",
    "    random.seed(1325614)\n",
    "    random.shuffle(review)\n",
    "    \n",
    "    #Now you have read all the files into list 'review' and it has been shuffled.\n",
    "    #Save your shuffled result by pickle.\n",
    "    #*Pickle is a useful module to serialize a python object structure.\n",
    "    #*Check it out. https://wiki.python.org/moin/UsingPickle\n",
    "    pickle.dump(review, open( pickle_path, \"wb\" ) )\n",
    "    return\n",
    "\n",
    "def train_test_split(num_train = 1500, num_test = 500, pickle_path = \"all_data_pickled.p\"):\n",
    "    all_data = pickle.load( open( pickle_path, \"rb\" ) )\n",
    "    train_data = all_data[0:num_train]\n",
    "    test_data = all_data[num_train:]\n",
    "    return train_data, test_data"
   ]
  },
  {
   "cell_type": "code",
   "execution_count": 548,
   "metadata": {
    "collapsed": false
   },
   "outputs": [],
   "source": [
    "shuffle_data()\n",
    "train_data, test_data = train_test_split()"
   ]
  },
  {
   "cell_type": "code",
   "execution_count": 549,
   "metadata": {
    "collapsed": false
   },
   "outputs": [
    {
     "data": {
      "text/plain": [
       "1500"
      ]
     },
     "execution_count": 549,
     "metadata": {},
     "output_type": "execute_result"
    }
   ],
   "source": [
    "len(train_data)"
   ]
  },
  {
   "cell_type": "code",
   "execution_count": 550,
   "metadata": {
    "collapsed": false
   },
   "outputs": [
    {
     "data": {
      "text/plain": [
       "500"
      ]
     },
     "execution_count": 550,
     "metadata": {},
     "output_type": "execute_result"
    }
   ],
   "source": [
    "len(test_data)"
   ]
  },
  {
   "cell_type": "markdown",
   "metadata": {},
   "source": [
    "# 5.1 Sparse Representations\n"
   ]
  },
  {
   "cell_type": "code",
   "execution_count": 551,
   "metadata": {
    "collapsed": false
   },
   "outputs": [],
   "source": [
    "from collections import Counter\n",
    "\n",
    "def sparsify(example):\n",
    "    '''\n",
    "    Sparsify produces a sparse representation of an input list of words.\n",
    "    \n",
    "    Args:\n",
    "        example- a list of words\n",
    "        \n",
    "    Returns:\n",
    "        sparse_example- a 'Counter' sparse version of the input example\n",
    "    '''\n",
    "    return Counter(example)\n"
   ]
  },
  {
   "cell_type": "markdown",
   "metadata": {},
   "source": [
    "# SVM via Pegasos- helper funcions"
   ]
  },
  {
   "cell_type": "code",
   "execution_count": 552,
   "metadata": {
    "collapsed": true
   },
   "outputs": [],
   "source": [
    "#Provided helper functions:\n",
    "\n",
    "# Taken from http://web.stanford.edu/class/cs221/ Assignment #2 Support Code\n",
    "\n",
    "def dotProduct(d1, d2):\n",
    "    \"\"\"\n",
    "    @param dict d1: a feature vector represented by a mapping from a feature (string) to a weight (float).\n",
    "    @param dict d2: same as d1\n",
    "    @return float: the dot product between d1 and d2\n",
    "    \"\"\"\n",
    "    if len(d1) < len(d2):\n",
    "        return dotProduct(d2, d1)\n",
    "    else:\n",
    "        return sum(d1.get(f, 0) * v for f, v in d2.items())\n",
    "\n",
    "def scale_and_increment(d1, scale_d1, d2 = Counter(), scale_d2 = 0.0):\n",
    "    \"\"\"\n",
    "    Implements d1 = scale_d1 * d1 + scale * d2 for sparse vectors.\n",
    "    \n",
    "    Args:\n",
    "        d1 - the feature vector which is mutated (input Counter object)\n",
    "        scale_d1 - scale for d1\n",
    "        d2 - the incrementing feature vector (not mutated)\n",
    "        scale_d2 - scale for d2\n",
    "        \n",
    "\n",
    "    NOTE: This function does not return anything, but rather\n",
    "    increments d1 in place. We do this because it is much faster to\n",
    "    change elements of d1 in place than to build a new dictionary and\n",
    "    return it.\n",
    "    \"\"\"\n",
    "    for f, v in d1.items():\n",
    "        d1[f] = scale_d1 * v\n",
    "        \n",
    "    for f, v in d2.items():\n",
    "        d1[f] = d1.get(f, 0) + scale_d2 * v\n",
    "\n",
    "def scale_and_increment(d1, scale_d1, d2 = Counter(), scale_d2 = 0.0):\n",
    "    \"\"\"\n",
    "    Implements d1 = scale_d1 * d1 + scale * d2 for sparse vectors.\n",
    "    \n",
    "    Args:\n",
    "        d1 - the feature vector which is mutated (input Counter object)\n",
    "        scale_d1 - scale for d1\n",
    "        d2 - the incrementing feature vector (not mutated)\n",
    "        scale_d2 - scale for d2\n",
    "        \n",
    "\n",
    "    NOTE: This function does not return anything, but rather\n",
    "    increments d1 in place. We do this because it is much faster to\n",
    "    change elements of d1 in place than to build a new dictionary and\n",
    "    return it.\n",
    "    \"\"\"\n",
    "    for f, v in d1.items():\n",
    "        d1[f] = scale_d1 * v\n",
    "    \n",
    "    if len(d2) != 0:\n",
    "        for f, v in d2.items():\n",
    "            d1[f] = d1.get(f, 0) + scale_d2 * v\n",
    "\n",
    "def increment(d1, scale, d2):\n",
    "    \"\"\"\n",
    "    Implements d1 += scale * d2 for sparse vectors.\n",
    "    @param dict d1: the feature vector which is mutated.\n",
    "    @param float scale\n",
    "    @param dict d2: a feature vector.\n",
    "\n",
    "    NOTE: This function does not return anything, but rather\n",
    "    increments d1 in place. We do this because it is much faster to\n",
    "    change elements of d1 in place than to build a new dictionary and\n",
    "    return it.\n",
    "    \"\"\"\n",
    "    for f, v in d2.items():\n",
    "        d1[f] = d1.get(f, 0) + v * scale"
   ]
  },
  {
   "cell_type": "markdown",
   "metadata": {},
   "source": [
    "# 6.2 Initial version of PEGASOS"
   ]
  },
  {
   "cell_type": "code",
   "execution_count": 553,
   "metadata": {
    "collapsed": false
   },
   "outputs": [],
   "source": [
    "def sparse_SVM_via_pegasos(training_data, max_epochs, lambda_reg, epsilon = 0.001):\n",
    "    \n",
    "    m = len(training_data)\n",
    "    \n",
    "    ## First sparsify all training_data:\n",
    "    sparse_training = []\n",
    "    for obs in training_data:\n",
    "        sparse_obs = {}\n",
    "        sparse_obs['xi'] = sparsify(obs[:-1])\n",
    "        sparse_obs['yi'] = obs[-1]\n",
    "        sparse_training.append(sparse_obs)\n",
    "    \n",
    "    delta_ws_for_convergence = []\n",
    "    w_0 = Counter() ###Counter returns a zero count for missing items\n",
    "    w = Counter()\n",
    "    t = 0.0\n",
    "    less_than_epsilon = False\n",
    "    while not (less_than_epsilon or t > max_epochs*m):\n",
    "        print t/m\n",
    "        for obs in sparse_training:\n",
    "            t += 1.0\n",
    "            eta_t = 1.0 / (t * lambda_reg)\n",
    "            if obs['yi']*dotProduct(obs['xi'],w) < 1.0:\n",
    "                scale_d1 = 1.0 - eta_t *lambda_reg\n",
    "                scale_d2 = eta_t * obs['yi']\n",
    "                scale_and_increment(d1 = w, scale_d1 = scale_d1, d2 = obs['xi'], scale_d2 = scale_d2)\n",
    "            else:\n",
    "                scale_d1 = 1.0 - eta_t *lambda_reg\n",
    "                scale_and_increment(d1 = w, scale_d1 = scale_d1)\n",
    "\n",
    "        delta_w = sum([v for f, v in (w - w_0).items()])**(0.5)\n",
    "        less_than_epsilon = (delta_w < epsilon)       \n",
    "        delta_ws_for_convergence.append(delta_w)\n",
    "        less_than_epsilon = (delta_w < epsilon)\n",
    "        if less_than_epsilon:\n",
    "            print 'less than epsilon at t = {}'.format(t)\n",
    "        w_0 = Counter({f:v for f, v in w.items()})            \n",
    "        \n",
    "    return w, delta_ws_for_convergence"
   ]
  },
  {
   "cell_type": "code",
   "execution_count": 554,
   "metadata": {
    "collapsed": false
   },
   "outputs": [
    {
     "name": "stdout",
     "output_type": "stream",
     "text": [
      "0.0\n",
      "1.0\n",
      "2.0\n",
      "3.0\n",
      "4.0\n",
      "5.0\n",
      "6.0\n",
      "7.0\n",
      "8.0\n",
      "9.0\n",
      "10.0\n"
     ]
    }
   ],
   "source": [
    "ten_iter_results = sparse_SVM_via_pegasos(train_data, max_epochs=10, lambda_reg=0.1, epsilon = 0.001)"
   ]
  },
  {
   "cell_type": "markdown",
   "metadata": {},
   "source": [
    "# 6.3 Efficient version fo PEGASOS (exploit sparsity in x)"
   ]
  },
  {
   "cell_type": "code",
   "execution_count": 555,
   "metadata": {
    "collapsed": false
   },
   "outputs": [],
   "source": [
    "def sparse_SVM_via_pegasos_with_W(training_data, max_epochs, lambda_reg, sparsified = False, epsilon = 0.001, check_convergence = True):\n",
    "    '''\n",
    "    Implements SVM via PEGASOS, exploiting sparsity of x_i's.\n",
    "    \n",
    "    Args:\n",
    "        training_data - training set. See 'sparsified' arg for details.\n",
    "        max_epochs - maximum number of epochs in the PEGASOS algorithm\n",
    "        lambda_reg - regularization hyperparamater\n",
    "        sparsified - if data already sparsified (list of dicts), then True. Else false implies sparsification necessary\n",
    "        epsilon - threshold for convergence\n",
    "        check_convergend - if True, measure change in w at each epoch, and use\n",
    "        epsilon as threshold for convergence. If not, run till max_epochs (save\n",
    "        time on convergence checking calculations).\n",
    "            \n",
    "    Returns:\n",
    "        w - the final sparse weight vector (after termination)\n",
    "        delta_ws_for_convergence - change in w's for each epoch\n",
    "    '''\n",
    "\n",
    "    m = len(training_data)\n",
    "    \n",
    "    ## First sparsify all training_data:\n",
    "    if not sparsified:\n",
    "        sparse_training = []\n",
    "        for obs in training_data:\n",
    "            sparse_obs = {}\n",
    "            sparse_obs['xi'] = sparsify(obs[:-1])\n",
    "            sparse_obs['yi'] = obs[-1]\n",
    "            sparse_training.append(sparse_obs)\n",
    "    else:\n",
    "        sparse_training = training_data\n",
    "        \n",
    "    delta_ws_for_convergence = []\n",
    "    \n",
    "    W_0 = Counter() ###Counter returns a zero count for missing items\n",
    "    W = Counter()\n",
    "    s = 1.0\n",
    "    s_0 = s\n",
    "    t = 0.0\n",
    "    less_than_epsilon = False\n",
    "    \n",
    "    print lambda_reg\n",
    "    while not (less_than_epsilon or t > max_epochs*m):\n",
    "        if t/m % 10 == 0:\n",
    "            print t/m\n",
    "        for obs in sparse_training:\n",
    "            t += 1.0\n",
    "            eta_t = 1.0 / (t * lambda_reg)\n",
    "            s = (1 - eta_t * lambda_reg) * s\n",
    "            \n",
    "            if s == 0.0:\n",
    "                print 'inside s==0 statement at t = {}'.format(t)\n",
    "                s = 1\n",
    "                W = Counter()\n",
    "                continue\n",
    "            \n",
    "            if obs['yi']*dotProduct(obs['xi'],W) < 1.0/s:\n",
    "                increment(d1 = W, scale = 1.0 / s * eta_t * obs['yi'], d2 = obs['xi'])\n",
    "            else:\n",
    "                pass\n",
    "        \n",
    "        if check_convergence:\n",
    "            delta_w = sum((Counter({f: s*v for f, v in W.items()}) - Counter({f: s_0*v for f, v in W_0.items()})).values())**(0.5)\n",
    "            delta_ws_for_convergence.append(delta_w)\n",
    "            less_than_epsilon = (delta_w < epsilon)\n",
    "            if less_than_epsilon:\n",
    "                print 'less than epsilon at t = {}'.format(t)\n",
    "            W_0 = Counter({f:v for f, v in W.items()})     \n",
    "            s_0 = s\n",
    "        \n",
    "    return Counter({f:s*v for f, v in W.items()}), delta_ws_for_convergence "
   ]
  },
  {
   "cell_type": "code",
   "execution_count": 692,
   "metadata": {
    "collapsed": false
   },
   "outputs": [],
   "source": [
    "ten_iter_results_W = sparse_SVM_via_pegasos_with_W(train_data, max_epochs=10, lambda_reg=0.1, epsilon = 0.001)"
   ]
  },
  {
   "cell_type": "markdown",
   "metadata": {},
   "source": [
    "# 6.4 Comparing results from both versions of Pegasos"
   ]
  },
  {
   "cell_type": "code",
   "execution_count": 687,
   "metadata": {
    "collapsed": true
   },
   "outputs": [],
   "source": [
    "%timeit sparse_SVM_via_pegasos_with_W(train_data, max_epochs=10, lambda_reg=0.1, epsilon = 0.001, check_convergence = False)\n",
    "%timeit sparse_SVM_via_pegasos_with_W(train_data, max_epochs=10, lambda_reg=0.1, epsilon = 0.001, check_convergence = True)\n",
    "%timeit sparse_SVM_via_pegasos(train_data, max_epochs = 10, lambda_reg=0.1, epsilon = 0.001)"
   ]
  },
  {
   "cell_type": "code",
   "execution_count": 745,
   "metadata": {
    "collapsed": false
   },
   "outputs": [
    {
     "data": {
      "image/png": "[encoded data removed]",
      "text/plain": [
       "<matplotlib.figure.Figure at 0x144a04950>"
      ]
     },
     "metadata": {},
     "output_type": "display_data"
    }
   ],
   "source": [
    "abs_diffs = ((ten_iter_results_W[0]-ten_iter_results[0])+(ten_iter_results[0]-ten_iter_results_W[0]))\n",
    "maxes = Counter({v: min(a[v], b[v]) for v in (a.keys() + b.keys())})\n",
    "rel_diffs = {v: abs_diffs[v]/handle0(maxes[v]) for v in abs_diffs.keys()}\n",
    "\n",
    "plt.figure(figsize=(8,6))\n",
    "plt.hist(rel_diffs.values(), bins=20)\n",
    "plt.title(r'Relative absolute difference in $w[word]$ for two versions (V1, V2) of Pegasos')\n",
    "plt.xlabel(r'Relative difference $\\frac{\\left|w_{V1}[word] - w_{V2}[word]\\right|}{\\min\\{w_{V1}[word],w_{V2}[word]\\}} $ ', fontsize=14)\n",
    "plt.ylabel('Frequency (counts)')\n",
    "plt.savefig('figures/6_4.png')"
   ]
  },
  {
   "cell_type": "code",
   "execution_count": 729,
   "metadata": {
    "collapsed": false
   },
   "outputs": [
    {
     "data": {
      "text/plain": [
       "{'fish': 0.631, 'other': 0.31, 'string': 2.3, 'word': 3.6}"
      ]
     },
     "execution_count": 729,
     "metadata": {},
     "output_type": "execute_result"
    }
   ],
   "source": [
    "a = Counter({'fish': 0.631, 'string': 2.3, 'word': 2.6})\n",
    "b = Counter({'other': 0.31, 'string': 1.3, 'word': 3.6})\n",
    "\n",
    "c = b.keys() + a.keys()\n",
    "c\n",
    "\n",
    "c = {v: max(a[v], b[v]) for v in (a.keys() + b.keys())}\n",
    "c"
   ]
  },
  {
   "cell_type": "code",
   "execution_count": 694,
   "metadata": {
    "collapsed": false
   },
   "outputs": [
    {
     "data": {
      "text/plain": [
       "[<matplotlib.lines.Line2D at 0x148e09bd0>]"
      ]
     },
     "execution_count": 694,
     "metadata": {},
     "output_type": "execute_result"
    },
    {
     "data": {
      "image/png": "[encoded data removed]",
      "text/plain": [
       "<matplotlib.figure.Figure at 0x148e09cd0>"
      ]
     },
     "metadata": {},
     "output_type": "display_data"
    }
   ],
   "source": [
    "plt.plot(np.arange(11), ten_iter_results_W[1][0:11])\n",
    "plt.plot(np.arange(11), ten_iter_results[1][0:11])"
   ]
  },
  {
   "cell_type": "markdown",
   "metadata": {},
   "source": [
    "# 6.5 Sparse 0-1 loss function"
   ]
  },
  {
   "cell_type": "code",
   "execution_count": 559,
   "metadata": {
    "collapsed": false
   },
   "outputs": [],
   "source": [
    "def sparse_0_1_loss(weight_vec, test_set):\n",
    "    '''\n",
    "    A function that takes a sparse weight vector weight_vec and a collection of (x,y) pairs (test_set)\n",
    "    and returns the percent error when predicting y using sign(wx). In other words, the function reports\n",
    "    the 0-1 loss of the linear predictor x 􏰀→ wx.\n",
    "    \n",
    "    Args:\n",
    "        weight_vec - sparse weight vector (Counter object)\n",
    "        test_set - validation data (iterable collection of obs dictionaries, with obs['xi'] and obs['yi'])\n",
    "    \n",
    "    Returns:\n",
    "        average 0-1 loss\n",
    "    '''\n",
    "    total_loss = 0.0\n",
    "    for obs in test_set:\n",
    "        loss_on_obs = (np.sign(dotProduct(weight_vec,obs['xi'])) != obs['yi'])\n",
    "        if loss_on_obs:\n",
    "            total_loss += 1.0\n",
    "    \n",
    "    return total_loss / len(test_set)"
   ]
  },
  {
   "cell_type": "markdown",
   "metadata": {},
   "source": [
    "# 6.6 Finding optimal lambda using bag-of-words representation"
   ]
  },
  {
   "cell_type": "code",
   "execution_count": 569,
   "metadata": {
    "collapsed": false
   },
   "outputs": [],
   "source": [
    "def lambda_search(lambdas, train_data, test_data, max_epochs = 100, epsilon = 0.001, check_convergence = True):\n",
    "\n",
    "    ## First sparsify all test_:\n",
    "    sparse_testing = []\n",
    "    for obs in test_data:\n",
    "        sparse_obs = {}\n",
    "        sparse_obs['xi'] = sparsify(obs[:-1])\n",
    "        sparse_obs['yi'] = obs[-1]\n",
    "        sparse_testing.append(sparse_obs)\n",
    "        \n",
    "        \n",
    "    ## sparsify all training:\n",
    "    sparse_training = []\n",
    "    for obs in train_data:\n",
    "        sparse_obs = {}\n",
    "        sparse_obs['xi'] = sparsify(obs[:-1])\n",
    "        sparse_obs['yi'] = obs[-1]\n",
    "        sparse_training.append(sparse_obs)\n",
    "    \n",
    "    convergence_hists = {}\n",
    "    loss_vals = []\n",
    "    for lambda_reg in lambdas:\n",
    "        weights, convergence = sparse_SVM_via_pegasos_with_W(sparse_training, max_epochs, lambda_reg, sparsified = True, epsilon = epsilon, check_convergence = check_convergence)\n",
    "        loss_vals.append([lambda_reg, sparse_0_1_loss(weights, sparse_testing)])\n",
    "        convergence_hists[lambda_reg] = convergence\n",
    "    \n",
    "    return np.array(loss_vals), convergence_hists"
   ]
  },
  {
   "cell_type": "code",
   "execution_count": 570,
   "metadata": {
    "collapsed": true
   },
   "outputs": [],
   "source": [
    "lambdas = np.logspace(-7,3,11)"
   ]
  },
  {
   "cell_type": "code",
   "execution_count": 571,
   "metadata": {
    "collapsed": false
   },
   "outputs": [
    {
     "data": {
      "text/plain": [
       "array([  1.00000000e-07,   1.00000000e-06,   1.00000000e-05,\n",
       "         1.00000000e-04,   1.00000000e-03,   1.00000000e-02,\n",
       "         1.00000000e-01,   1.00000000e+00,   1.00000000e+01,\n",
       "         1.00000000e+02,   1.00000000e+03])"
      ]
     },
     "execution_count": 571,
     "metadata": {},
     "output_type": "execute_result"
    }
   ],
   "source": [
    "lambdas"
   ]
  },
  {
   "cell_type": "code",
   "execution_count": 573,
   "metadata": {
    "collapsed": false
   },
   "outputs": [
    {
     "name": "stdout",
     "output_type": "stream",
     "text": [
      "1e-07\n",
      "0.0\n",
      "inside s==0 statement at t = 1.0\n",
      "10.0\n",
      "20.0\n",
      "30.0\n",
      "40.0\n",
      "50.0\n",
      "60.0\n",
      "70.0\n",
      "80.0\n",
      "90.0\n",
      "100.0\n",
      "1e-06\n",
      "0.0\n",
      "inside s==0 statement at t = 1.0\n",
      "10.0\n",
      "20.0\n",
      "30.0\n",
      "40.0\n",
      "50.0\n",
      "60.0\n",
      "70.0\n",
      "80.0\n",
      "90.0\n",
      "100.0\n",
      "1e-05\n",
      "0.0\n",
      "10.0\n",
      "20.0\n",
      "30.0\n",
      "40.0\n",
      "50.0\n",
      "60.0\n",
      "70.0\n",
      "80.0\n",
      "90.0\n",
      "100.0\n",
      "0.0001\n",
      "0.0\n",
      "inside s==0 statement at t = 1.0\n",
      "10.0\n",
      "20.0\n",
      "30.0\n",
      "40.0\n",
      "50.0\n",
      "60.0\n",
      "70.0\n",
      "80.0\n",
      "90.0\n",
      "100.0\n",
      "0.001\n",
      "0.0\n",
      "inside s==0 statement at t = 1.0\n",
      "10.0\n",
      "20.0\n",
      "30.0\n",
      "40.0\n",
      "50.0\n",
      "60.0\n",
      "70.0\n",
      "80.0\n",
      "90.0\n",
      "100.0\n",
      "0.01\n",
      "0.0\n",
      "inside s==0 statement at t = 1.0\n",
      "10.0\n",
      "20.0\n",
      "30.0\n",
      "40.0\n",
      "50.0\n",
      "60.0\n",
      "70.0\n",
      "80.0\n",
      "90.0\n",
      "100.0\n",
      "0.1\n",
      "0.0\n",
      "inside s==0 statement at t = 1.0\n",
      "10.0\n",
      "20.0\n",
      "30.0\n",
      "40.0\n",
      "50.0\n",
      "60.0\n",
      "70.0\n",
      "80.0\n",
      "90.0\n",
      "100.0\n",
      "1.0\n",
      "0.0\n",
      "inside s==0 statement at t = 1.0\n",
      "10.0\n",
      "20.0\n",
      "30.0\n",
      "40.0\n",
      "50.0\n",
      "60.0\n",
      "70.0\n",
      "80.0\n",
      "90.0\n",
      "100.0\n",
      "10.0\n",
      "0.0\n",
      "inside s==0 statement at t = 1.0\n",
      "10.0\n",
      "20.0\n",
      "30.0\n",
      "40.0\n",
      "50.0\n",
      "60.0\n",
      "70.0\n",
      "80.0\n",
      "90.0\n",
      "100.0\n",
      "100.0\n",
      "0.0\n",
      "inside s==0 statement at t = 1.0\n",
      "10.0\n",
      "20.0\n",
      "30.0\n",
      "40.0\n",
      "50.0\n",
      "60.0\n",
      "70.0\n",
      "80.0\n",
      "90.0\n",
      "100.0\n",
      "1000.0\n",
      "0.0\n",
      "inside s==0 statement at t = 1.0\n",
      "10.0\n",
      "20.0\n",
      "30.0\n",
      "40.0\n",
      "less than epsilon at t = 75000.0\n"
     ]
    }
   ],
   "source": [
    "search_results = lambda_search(lambdas, train_data, test_data, max_epochs = 100, epsilon = 0.001, check_convergence = True)"
   ]
  },
  {
   "cell_type": "code",
   "execution_count": 598,
   "metadata": {
    "collapsed": false
   },
   "outputs": [
    {
     "data": {
      "image/png": "[encoded data removed]",
      "text/plain": [
       "<matplotlib.figure.Figure at 0x13a0ba990>"
      ]
     },
     "metadata": {},
     "output_type": "display_data"
    }
   ],
   "source": [
    "plt.figure(figsize=(8,6))\n",
    "plt.plot(search_results[0][:,0], search_results[0][:,1])\n",
    "plt.xscale('log')\n",
    "plt.ylabel('Average 0-1 validation set loss')\n",
    "plt.xlabel(r'$\\lambda$')\n",
    "plt.title(r'Optimizing $\\lambda$ over initial candidate set')\n",
    "plt.savefig('figures/6_6_a.png')"
   ]
  },
  {
   "cell_type": "code",
   "execution_count": 575,
   "metadata": {
    "collapsed": false
   },
   "outputs": [
    {
     "name": "stdout",
     "output_type": "stream",
     "text": [
      "[[  1.00000000e-07   1.76000000e-01]\n",
      " [  1.00000000e-06   1.76000000e-01]\n",
      " [  1.00000000e-05   1.78000000e-01]\n",
      " [  1.00000000e-04   1.88000000e-01]\n",
      " [  1.00000000e-03   1.64000000e-01]\n",
      " [  1.00000000e-02   1.62000000e-01]\n",
      " [  1.00000000e-01   1.58000000e-01]\n",
      " [  1.00000000e+00   1.82000000e-01]\n",
      " [  1.00000000e+01   3.20000000e-01]\n",
      " [  1.00000000e+02   5.14000000e-01]\n",
      " [  1.00000000e+03   5.12000000e-01]]\n"
     ]
    }
   ],
   "source": [
    "print search_results[0]"
   ]
  },
  {
   "cell_type": "code",
   "execution_count": 576,
   "metadata": {
    "collapsed": false
   },
   "outputs": [
    {
     "data": {
      "text/plain": [
       "(0, 20)"
      ]
     },
     "execution_count": 576,
     "metadata": {},
     "output_type": "execute_result"
    },
    {
     "data": {
      "image/png": "[encoded data removed]",
      "text/plain": [
       "<matplotlib.figure.Figure at 0x13c2abad0>"
      ]
     },
     "metadata": {},
     "output_type": "display_data"
    }
   ],
   "source": [
    "plt.figure()\n",
    "for i in search_results[1]:\n",
    "    plt.plot(np.arange(len(search_results[1][i])), search_results[1][i], label=i)\n",
    "#plt.legend(loc='upper left')\n",
    "plt.ylim((0,20))"
   ]
  },
  {
   "cell_type": "code",
   "execution_count": 577,
   "metadata": {
    "collapsed": false
   },
   "outputs": [
    {
     "data": {
      "text/plain": [
       "array([ 0.001     ,  0.00215443,  0.00464159,  0.01      ,  0.02154435,\n",
       "        0.04641589,  0.1       ,  0.21544347,  0.46415888,  1.        ])"
      ]
     },
     "execution_count": 577,
     "metadata": {},
     "output_type": "execute_result"
    }
   ],
   "source": [
    "np.logspace(-3,0,10)"
   ]
  },
  {
   "cell_type": "code",
   "execution_count": 580,
   "metadata": {
    "collapsed": false
   },
   "outputs": [
    {
     "name": "stdout",
     "output_type": "stream",
     "text": [
      "0.001\n",
      "0.0\n",
      "inside s==0 statement at t = 1.0\n",
      "10.0\n",
      "20.0\n",
      "30.0\n",
      "40.0\n",
      "50.0\n",
      "60.0\n",
      "70.0\n",
      "80.0\n",
      "90.0\n",
      "100.0\n",
      "0.00215443469003\n",
      "0.0\n",
      "inside s==0 statement at t = 1.0\n",
      "10.0\n",
      "20.0\n",
      "30.0\n",
      "40.0\n",
      "50.0\n",
      "60.0\n",
      "70.0\n",
      "80.0\n",
      "90.0\n",
      "100.0\n",
      "0.00464158883361\n",
      "0.0\n",
      "inside s==0 statement at t = 1.0\n",
      "10.0\n",
      "20.0\n",
      "30.0\n",
      "40.0\n",
      "50.0\n",
      "60.0\n",
      "70.0\n",
      "80.0\n",
      "90.0\n",
      "100.0\n",
      "0.01\n",
      "0.0\n",
      "inside s==0 statement at t = 1.0\n",
      "10.0\n",
      "20.0\n",
      "30.0\n",
      "40.0\n",
      "50.0\n",
      "60.0\n",
      "70.0\n",
      "80.0\n",
      "90.0\n",
      "100.0\n",
      "0.0215443469003\n",
      "0.0\n",
      "inside s==0 statement at t = 1.0\n",
      "10.0\n",
      "20.0\n",
      "30.0\n",
      "40.0\n",
      "50.0\n",
      "60.0\n",
      "70.0\n",
      "80.0\n",
      "90.0\n",
      "100.0\n",
      "0.0464158883361\n",
      "0.0\n",
      "10.0\n",
      "20.0\n",
      "30.0\n",
      "40.0\n",
      "50.0\n",
      "60.0\n",
      "70.0\n",
      "80.0\n",
      "90.0\n",
      "100.0\n",
      "0.1\n",
      "0.0\n",
      "inside s==0 statement at t = 1.0\n",
      "10.0\n",
      "20.0\n",
      "30.0\n",
      "40.0\n",
      "50.0\n",
      "60.0\n",
      "70.0\n",
      "80.0\n",
      "90.0\n",
      "100.0\n",
      "0.215443469003\n",
      "0.0\n",
      "inside s==0 statement at t = 1.0\n",
      "10.0\n",
      "20.0\n",
      "30.0\n",
      "40.0\n",
      "50.0\n",
      "60.0\n",
      "70.0\n",
      "80.0\n",
      "90.0\n",
      "100.0\n",
      "0.464158883361\n",
      "0.0\n",
      "inside s==0 statement at t = 1.0\n",
      "10.0\n",
      "20.0\n",
      "30.0\n",
      "40.0\n",
      "50.0\n",
      "60.0\n",
      "70.0\n",
      "80.0\n",
      "90.0\n",
      "100.0\n",
      "1.0\n",
      "0.0\n",
      "inside s==0 statement at t = 1.0\n",
      "10.0\n",
      "20.0\n",
      "30.0\n",
      "40.0\n",
      "50.0\n",
      "60.0\n",
      "70.0\n",
      "80.0\n",
      "90.0\n",
      "100.0\n"
     ]
    }
   ],
   "source": [
    "search_results1 = lambda_search(np.logspace(-3,0,10), train_data, test_data, max_epochs = 100, epsilon = 0.001, check_convergence = False)"
   ]
  },
  {
   "cell_type": "code",
   "execution_count": 581,
   "metadata": {
    "collapsed": false
   },
   "outputs": [
    {
     "data": {
      "image/png": "[encoded data removed]",
      "text/plain": [
       "<matplotlib.figure.Figure at 0x13a1e6110>"
      ]
     },
     "metadata": {},
     "output_type": "display_data"
    }
   ],
   "source": [
    "plt.plot(search_results1[0][:,0], search_results1[0][:,1])\n",
    "plt.xscale('log')"
   ]
  },
  {
   "cell_type": "code",
   "execution_count": 590,
   "metadata": {
    "collapsed": false
   },
   "outputs": [
    {
     "name": "stdout",
     "output_type": "stream",
     "text": [
      "[[ 0.001       0.164     ]\n",
      " [ 0.00215443  0.172     ]\n",
      " [ 0.00464159  0.168     ]\n",
      " [ 0.01        0.162     ]\n",
      " [ 0.02154435  0.164     ]\n",
      " [ 0.04641589  0.16      ]\n",
      " [ 0.1         0.158     ]\n",
      " [ 0.21544347  0.156     ]\n",
      " [ 0.46415888  0.18      ]\n",
      " [ 1.          0.182     ]]\n"
     ]
    }
   ],
   "source": [
    "print search_results1[0]"
   ]
  },
  {
   "cell_type": "code",
   "execution_count": 582,
   "metadata": {
    "collapsed": false
   },
   "outputs": [
    {
     "data": {
      "text/plain": [
       "array([ 0.1,  0.2,  0.3,  0.4,  0.5,  0.6,  0.7,  0.8,  0.9,  1. ])"
      ]
     },
     "execution_count": 582,
     "metadata": {},
     "output_type": "execute_result"
    }
   ],
   "source": [
    "np.linspace(1e-1,1e-0,10)"
   ]
  },
  {
   "cell_type": "code",
   "execution_count": 585,
   "metadata": {
    "collapsed": false
   },
   "outputs": [
    {
     "name": "stdout",
     "output_type": "stream",
     "text": [
      "0.1\n",
      "0.0\n",
      "inside s==0 statement at t = 1.0\n",
      "10.0\n",
      "20.0\n",
      "30.0\n",
      "40.0\n",
      "50.0\n",
      "60.0\n",
      "70.0\n",
      "80.0\n",
      "90.0\n",
      "100.0\n",
      "0.2\n",
      "0.0\n",
      "inside s==0 statement at t = 1.0\n",
      "10.0\n",
      "20.0\n",
      "30.0\n",
      "40.0\n",
      "50.0\n",
      "60.0\n",
      "70.0\n",
      "80.0\n",
      "90.0\n",
      "100.0\n",
      "0.3\n",
      "0.0\n",
      "inside s==0 statement at t = 1.0\n",
      "10.0\n",
      "20.0\n",
      "30.0\n",
      "40.0\n",
      "50.0\n",
      "60.0\n",
      "70.0\n",
      "80.0\n",
      "90.0\n",
      "100.0\n",
      "0.4\n",
      "0.0\n",
      "inside s==0 statement at t = 1.0\n",
      "10.0\n",
      "20.0\n",
      "30.0\n",
      "40.0\n",
      "50.0\n",
      "60.0\n",
      "70.0\n",
      "80.0\n",
      "90.0\n",
      "100.0\n",
      "0.5\n",
      "0.0\n",
      "inside s==0 statement at t = 1.0\n",
      "10.0\n",
      "20.0\n",
      "30.0\n",
      "40.0\n",
      "50.0\n",
      "60.0\n",
      "70.0\n",
      "80.0\n",
      "90.0\n",
      "100.0\n",
      "0.6\n",
      "0.0\n",
      "inside s==0 statement at t = 1.0\n",
      "10.0\n",
      "20.0\n",
      "30.0\n",
      "40.0\n",
      "50.0\n",
      "60.0\n",
      "70.0\n",
      "80.0\n",
      "90.0\n",
      "100.0\n",
      "0.7\n",
      "0.0\n",
      "inside s==0 statement at t = 1.0\n",
      "10.0\n",
      "20.0\n",
      "30.0\n",
      "40.0\n",
      "50.0\n",
      "60.0\n",
      "70.0\n",
      "80.0\n",
      "90.0\n",
      "100.0\n",
      "0.8\n",
      "0.0\n",
      "inside s==0 statement at t = 1.0\n",
      "10.0\n",
      "20.0\n",
      "30.0\n",
      "40.0\n",
      "50.0\n",
      "60.0\n",
      "70.0\n",
      "80.0\n",
      "90.0\n",
      "100.0\n",
      "0.9\n",
      "0.0\n",
      "inside s==0 statement at t = 1.0\n",
      "10.0\n",
      "20.0\n",
      "30.0\n",
      "40.0\n",
      "50.0\n",
      "60.0\n",
      "70.0\n",
      "80.0\n",
      "90.0\n",
      "100.0\n",
      "1.0\n",
      "0.0\n",
      "inside s==0 statement at t = 1.0\n",
      "10.0\n",
      "20.0\n",
      "30.0\n",
      "40.0\n",
      "50.0\n",
      "60.0\n",
      "70.0\n",
      "80.0\n",
      "90.0\n",
      "100.0\n"
     ]
    }
   ],
   "source": [
    "search_results2 = lambda_search(np.linspace(1e-1,1e-0,10), train_data, test_data, max_epochs = 100, epsilon = 0.001, check_convergence = False)"
   ]
  },
  {
   "cell_type": "code",
   "execution_count": 592,
   "metadata": {
    "collapsed": false
   },
   "outputs": [
    {
     "data": {
      "image/png": "[encoded data removed]",
      "text/plain": [
       "<matplotlib.figure.Figure at 0x1125f8850>"
      ]
     },
     "metadata": {},
     "output_type": "display_data"
    }
   ],
   "source": [
    "plt.plot(search_results2[0][:,0], search_results2[0][:,1])\n",
    "plt.xscale('log')"
   ]
  },
  {
   "cell_type": "code",
   "execution_count": 591,
   "metadata": {
    "collapsed": false
   },
   "outputs": [
    {
     "name": "stdout",
     "output_type": "stream",
     "text": [
      "[[ 0.1    0.158]\n",
      " [ 0.2    0.15 ]\n",
      " [ 0.3    0.17 ]\n",
      " [ 0.4    0.174]\n",
      " [ 0.5    0.184]\n",
      " [ 0.6    0.18 ]\n",
      " [ 0.7    0.182]\n",
      " [ 0.8    0.178]\n",
      " [ 0.9    0.182]\n",
      " [ 1.     0.182]]\n"
     ]
    }
   ],
   "source": [
    "print search_results2[0]"
   ]
  },
  {
   "cell_type": "code",
   "execution_count": 593,
   "metadata": {
    "collapsed": false
   },
   "outputs": [
    {
     "name": "stdout",
     "output_type": "stream",
     "text": [
      "0.1\n",
      "0.0\n",
      "inside s==0 statement at t = 1.0\n",
      "10.0\n",
      "20.0\n",
      "30.0\n",
      "40.0\n",
      "50.0\n",
      "60.0\n",
      "70.0\n",
      "80.0\n",
      "90.0\n",
      "100.0\n",
      "0.122222222222\n",
      "0.0\n",
      "inside s==0 statement at t = 1.0\n",
      "10.0\n",
      "20.0\n",
      "30.0\n",
      "40.0\n",
      "50.0\n",
      "60.0\n",
      "70.0\n",
      "80.0\n",
      "90.0\n",
      "100.0\n",
      "0.144444444444\n",
      "0.0\n",
      "inside s==0 statement at t = 1.0\n",
      "10.0\n",
      "20.0\n",
      "30.0\n",
      "40.0\n",
      "50.0\n",
      "60.0\n",
      "70.0\n",
      "80.0\n",
      "90.0\n",
      "100.0\n",
      "0.166666666667\n",
      "0.0\n",
      "inside s==0 statement at t = 1.0\n",
      "10.0\n",
      "20.0\n",
      "30.0\n",
      "40.0\n",
      "50.0\n",
      "60.0\n",
      "70.0\n",
      "80.0\n",
      "90.0\n",
      "100.0\n",
      "0.188888888889\n",
      "0.0\n",
      "10.0\n",
      "20.0\n",
      "30.0\n",
      "40.0\n",
      "50.0\n",
      "60.0\n",
      "70.0\n",
      "80.0\n",
      "90.0\n",
      "100.0\n",
      "0.211111111111\n",
      "0.0\n",
      "10.0\n",
      "20.0\n",
      "30.0\n",
      "40.0\n",
      "50.0\n",
      "60.0\n",
      "70.0\n",
      "80.0\n",
      "90.0\n",
      "100.0\n",
      "0.233333333333\n",
      "0.0\n",
      "inside s==0 statement at t = 1.0\n",
      "10.0\n",
      "20.0\n",
      "30.0\n",
      "40.0\n",
      "50.0\n",
      "60.0\n",
      "70.0\n",
      "80.0\n",
      "90.0\n",
      "100.0\n",
      "0.255555555556\n",
      "0.0\n",
      "inside s==0 statement at t = 1.0\n",
      "10.0\n",
      "20.0\n",
      "30.0\n",
      "40.0\n",
      "50.0\n",
      "60.0\n",
      "70.0\n",
      "80.0\n",
      "90.0\n",
      "100.0\n",
      "0.277777777778\n",
      "0.0\n",
      "inside s==0 statement at t = 1.0\n",
      "10.0\n",
      "20.0\n",
      "30.0\n",
      "40.0\n",
      "50.0\n",
      "60.0\n",
      "70.0\n",
      "80.0\n",
      "90.0\n",
      "100.0\n",
      "0.3\n",
      "0.0\n",
      "inside s==0 statement at t = 1.0\n",
      "10.0\n",
      "20.0\n",
      "30.0\n",
      "40.0\n",
      "50.0\n",
      "60.0\n",
      "70.0\n",
      "80.0\n",
      "90.0\n",
      "100.0\n"
     ]
    }
   ],
   "source": [
    "search_results3 = lambda_search(np.linspace(1e-1,3e-1,10), train_data, test_data, max_epochs = 100, epsilon = 0.001, check_convergence = False)"
   ]
  },
  {
   "cell_type": "code",
   "execution_count": 602,
   "metadata": {
    "collapsed": false
   },
   "outputs": [
    {
     "data": {
      "image/png": "[encoded data removed]",
      "text/plain": [
       "<matplotlib.figure.Figure at 0x13a234d90>"
      ]
     },
     "metadata": {},
     "output_type": "display_data"
    }
   ],
   "source": [
    "plt.figure(figsize=(8,6))\n",
    "plt.plot(search_results3[0][:,0], search_results3[0][:,1])\n",
    "plt.ylabel('Average 0-1 validation set loss')\n",
    "plt.xlabel(r'$\\lambda$')\n",
    "plt.title(r'Optimizing $\\lambda$ over fine-grain candidate set')\n",
    "plt.savefig('figures/6_6_b.png')"
   ]
  },
  {
   "cell_type": "code",
   "execution_count": 595,
   "metadata": {
    "collapsed": false
   },
   "outputs": [
    {
     "data": {
      "text/plain": [
       "array([[ 0.1       ,  0.158     ],\n",
       "       [ 0.12222222,  0.152     ],\n",
       "       [ 0.14444444,  0.148     ],\n",
       "       [ 0.16666667,  0.15      ],\n",
       "       [ 0.18888889,  0.154     ],\n",
       "       [ 0.21111111,  0.16      ],\n",
       "       [ 0.23333333,  0.158     ],\n",
       "       [ 0.25555556,  0.166     ],\n",
       "       [ 0.27777778,  0.166     ],\n",
       "       [ 0.3       ,  0.17      ]])"
      ]
     },
     "execution_count": 595,
     "metadata": {},
     "output_type": "execute_result"
    }
   ],
   "source": [
    "search_results3[0]"
   ]
  },
  {
   "cell_type": "code",
   "execution_count": 597,
   "metadata": {
    "collapsed": false
   },
   "outputs": [
    {
     "name": "stdout",
     "output_type": "stream",
     "text": [
      "0.12\n",
      "0.0\n",
      "inside s==0 statement at t = 1.0\n",
      "10.0\n",
      "20.0\n",
      "30.0\n",
      "40.0\n",
      "50.0\n",
      "60.0\n",
      "70.0\n",
      "80.0\n",
      "90.0\n",
      "100.0\n",
      "0.13\n",
      "0.0\n",
      "inside s==0 statement at t = 1.0\n",
      "10.0\n",
      "20.0\n",
      "30.0\n",
      "40.0\n",
      "50.0\n",
      "60.0\n",
      "70.0\n",
      "80.0\n",
      "90.0\n",
      "100.0\n",
      "0.14\n",
      "0.0\n",
      "inside s==0 statement at t = 1.0\n",
      "10.0\n",
      "20.0\n",
      "30.0\n",
      "40.0\n",
      "50.0\n",
      "60.0\n",
      "70.0\n",
      "80.0\n",
      "90.0\n",
      "100.0\n",
      "0.15\n",
      "0.0\n",
      "inside s==0 statement at t = 1.0\n",
      "10.0\n",
      "20.0\n",
      "30.0\n",
      "40.0\n",
      "50.0\n",
      "60.0\n",
      "70.0\n",
      "80.0\n",
      "90.0\n",
      "100.0\n",
      "0.16\n",
      "0.0\n",
      "inside s==0 statement at t = 1.0\n",
      "10.0\n",
      "20.0\n",
      "30.0\n",
      "40.0\n",
      "50.0\n",
      "60.0\n",
      "70.0\n",
      "80.0\n",
      "90.0\n",
      "100.0\n"
     ]
    }
   ],
   "source": [
    "search_results4 = lambda_search(np.linspace(1.2e-1,1.6e-1,5), train_data, test_data, max_epochs = 100, epsilon = 0.001, check_convergence = False)"
   ]
  },
  {
   "cell_type": "code",
   "execution_count": 600,
   "metadata": {
    "collapsed": false
   },
   "outputs": [
    {
     "data": {
      "text/plain": [
       "[<matplotlib.lines.Line2D at 0x13a225d10>]"
      ]
     },
     "execution_count": 600,
     "metadata": {},
     "output_type": "execute_result"
    },
    {
     "data": {
      "image/png": "[encoded data removed]",
      "text/plain": [
       "<matplotlib.figure.Figure at 0x13a0ba9d0>"
      ]
     },
     "metadata": {},
     "output_type": "display_data"
    }
   ],
   "source": [
    "plt.plot(search_results4[0][:,0], search_results4[0][:,1])"
   ]
  },
  {
   "cell_type": "code",
   "execution_count": 607,
   "metadata": {
    "collapsed": false
   },
   "outputs": [
    {
     "data": {
      "text/plain": [
       "array([[ 0.12 ,  0.15 ],\n",
       "       [ 0.13 ,  0.15 ],\n",
       "       [ 0.14 ,  0.146],\n",
       "       [ 0.15 ,  0.146],\n",
       "       [ 0.16 ,  0.148]])"
      ]
     },
     "execution_count": 607,
     "metadata": {},
     "output_type": "execute_result"
    }
   ],
   "source": [
    "search_results4[0]"
   ]
  },
  {
   "cell_type": "code",
   "execution_count": 617,
   "metadata": {
    "collapsed": false
   },
   "outputs": [
    {
     "name": "stdout",
     "output_type": "stream",
     "text": [
      "0.14\n",
      "0.0\n",
      "inside s==0 statement at t = 1.0\n",
      "10.0\n",
      "20.0\n",
      "30.0\n",
      "40.0\n",
      "50.0\n",
      "60.0\n",
      "70.0\n",
      "80.0\n",
      "90.0\n",
      "100.0\n"
     ]
    }
   ],
   "source": [
    "opt_ws = ten_iter_results_W = sparse_SVM_via_pegasos_with_W(train_data, max_epochs=100, lambda_reg=0.14, epsilon = 0.001)"
   ]
  },
  {
   "cell_type": "code",
   "execution_count": 678,
   "metadata": {
    "collapsed": false
   },
   "outputs": [
    {
     "data": {
      "text/plain": [
       "0.146"
      ]
     },
     "execution_count": 678,
     "metadata": {},
     "output_type": "execute_result"
    }
   ],
   "source": [
    "## First sparsify all test_:\n",
    "sparse_testing = []\n",
    "for obs in test_data:\n",
    "    sparse_obs = {}\n",
    "    sparse_obs['xi'] = sparsify(obs[:-1])\n",
    "    sparse_obs['yi'] = obs[-1]\n",
    "    sparse_testing.append(sparse_obs)\n",
    "    \n",
    "sparse_0_1_loss(opt_ws[0], sparse_testing)"
   ]
  },
  {
   "cell_type": "markdown",
   "metadata": {},
   "source": [
    "# 6.7 Scores as \"confidence\" of prediction"
   ]
  },
  {
   "cell_type": "code",
   "execution_count": 619,
   "metadata": {
    "collapsed": false
   },
   "outputs": [
    {
     "data": {
      "text/plain": [
       "array([-6. , -5.6, -5.2, -4.8, -4.4, -4. , -3.6, -3.2, -2.8, -2.4, -2. ,\n",
       "       -1.6, -1.2, -0.8, -0.4,  0. ,  0.4,  0.8,  1.2,  1.6,  2. ,  2.4,\n",
       "        2.8,  3.2,  3.6,  4. ,  4.4,  4.8,  5.2,  5.6,  6. ])"
      ]
     },
     "execution_count": 619,
     "metadata": {},
     "output_type": "execute_result"
    }
   ],
   "source": [
    "np.linspace(-6, 6, 31)"
   ]
  },
  {
   "cell_type": "code",
   "execution_count": 677,
   "metadata": {
    "collapsed": false
   },
   "outputs": [
    {
     "data": {
      "image/png": "[encoded data removed]",
      "text/plain": [
       "<matplotlib.figure.Figure at 0x13d3ca550>"
      ]
     },
     "metadata": {},
     "output_type": "display_data"
    }
   ],
   "source": [
    "scores_actuals = []\n",
    "for obs in test_data:\n",
    "    scores_actuals.append([dotProduct(opt_ws[0], sparsify(obs[:-1])), obs[-1]])\n",
    "scores_actuals = np.array(scores_actuals)\n",
    "\n",
    "plt.figure(figsize=(8,6))\n",
    "bins = np.linspace(-6, 6, 31)\n",
    "pos_bins = plt.hist(scores_actuals[scores_actuals[:,1] == 1., 0], bins, alpha=0.5, label='Positive (y = 1)')\n",
    "neg_bins = plt.hist(scores_actuals[scores_actuals[:,1] == -1., 0], bins, alpha=0.5, label='Negative (y = -1)')\n",
    "plt.legend(loc='best')\n",
    "plt.ylabel('Frequency (count)')\n",
    "plt.xlabel(r'Score $f(x) = w^t x$')\n",
    "plt.title(\"Comparing scores for true positive/ negative validation set instances\")\n",
    "plt.savefig('figures/6_7_a.png')"
   ]
  },
  {
   "cell_type": "code",
   "execution_count": null,
   "metadata": {
    "collapsed": false
   },
   "outputs": [],
   "source": [
    "pos_bins[0][0:15] ##False positive\n",
    "pos_bins[0][15:] ##True positive\n",
    "neg_bins[0][15:] ##False negative\n",
    "neg_bins[0][0:15] ##True negative\n",
    "pos_bins[0][0:15] + neg_bins[0][0:15]## Total bin counts in R-\n",
    "pos_bins[0][15:] + neg_bins[0][15:] ## Total bin counts in R+"
   ]
  },
  {
   "cell_type": "code",
   "execution_count": 633,
   "metadata": {
    "collapsed": false,
    "scrolled": true
   },
   "outputs": [
    {
     "data": {
      "image/png": "[encoded data removed]",
      "text/plain": [
       "<matplotlib.figure.Figure at 0x159fe9510>"
      ]
     },
     "metadata": {},
     "output_type": "display_data"
    }
   ],
   "source": [
    "import matplotlib as mpl\n",
    "\n",
    "handle0 = (lambda x: 1 if x == 0 else x)\n",
    "handle0 = np.vectorize(handle0)\n",
    "\n",
    "fig, ax = plt.subplots(figsize=(8,4))\n",
    "ax.scatter(pos_bins[1][0:30]+.2,\n",
    "            np.append(pos_bins[0][0:15]/handle0(pos_bins[0][0:15] + neg_bins[0][0:15]),\n",
    "              neg_bins[0][15:]/handle0(pos_bins[0][15:] + neg_bins[0][15:])),\n",
    "           s=(pos_bins[0][0:30] + neg_bins[0][0:30]))\n",
    "ax.set_xlim(-6,6)\n",
    "ax.set_ylim(0,0.6)\n",
    "ax.set_ylabel(r'$P($ sign $(f(x)) \\ne y)$')\n",
    "ax.set_xlabel(r'$f(x) = w^Tx$')\n",
    "ax.set_title('Probability of Error in Each Bin\\n(Point size indicates number of observations in bin)')\n",
    "plt.savefig('figures/6_7_b.png')"
   ]
  },
  {
   "cell_type": "markdown",
   "metadata": {},
   "source": [
    "# 6.8 Number of score = 0 observations."
   ]
  },
  {
   "cell_type": "code",
   "execution_count": 637,
   "metadata": {
    "collapsed": false
   },
   "outputs": [
    {
     "name": "stdout",
     "output_type": "stream",
     "text": [
      "0\n"
     ]
    }
   ],
   "source": [
    "count_ywx_is_1 = 0\n",
    "for obs in train_data:\n",
    "    if obs[-1]*dotProduct(opt_ws[0], sparsify(obs[:-1])) == 1.0:\n",
    "        count_ywx_is_1 += 1\n",
    "print count_ywx_is_1"
   ]
  },
  {
   "cell_type": "code",
   "execution_count": 641,
   "metadata": {
    "collapsed": false
   },
   "outputs": [
    {
     "data": {
      "text/plain": [
       "38793"
      ]
     },
     "execution_count": 641,
     "metadata": {},
     "output_type": "execute_result"
    }
   ],
   "source": [
    "len(opt_ws[0])"
   ]
  },
  {
   "cell_type": "markdown",
   "metadata": {},
   "source": [
    "# 7.1 Error Analysis"
   ]
  },
  {
   "cell_type": "code",
   "execution_count": 653,
   "metadata": {
    "collapsed": false
   },
   "outputs": [],
   "source": [
    "def error_analysis():\n",
    "    top_10_mistakes = []\n",
    "    for obs in test_data:\n",
    "        actual_score = dotProduct(opt_ws[0], sparsify(obs[:-1]))\n",
    "        if np.sign(actual_score) != np.sign(obs[-1]):\n",
    "            top_10_mistakes.append([obs[:-1], obs[-1], actual_score])\n",
    "            min_val = min([np.abs(i[2]) for i in top_10_mistakes])\n",
    "            if len(top_10_mistakes) > 10:\n",
    "                new_list = [mistake for mistake in top_10_mistakes if np.abs(mistake[2]) != min_val]\n",
    "                top_10_mistakes = new_list[:]\n",
    "\n",
    "    num = 1\n",
    "    for mistake in top_10_mistakes:\n",
    "        product = {}\n",
    "        for word, count in sparsify(mistake[0]).items():\n",
    "            product[word] = np.abs(count*opt_ws[0][word])\n",
    "        big_mistakes = sorted({v:k for k, v in product.items()}.items())[-10:-1]\n",
    "\n",
    "        print 'Mistake {}-'.format(num), 'actual ranking = {}'.format(mistake[1]), ', score = {}'.format(mistake[2]),\n",
    "        print '\\n'\n",
    "        for word in big_mistakes:\n",
    "            word = word[1]\n",
    "            print 'Word = {}, '.format(word), 'x = {}, '.format(round(sparsify(mistake[0])[word], 4)), 'w = {}, '.format(round(opt_ws[0][word], 4)), 'xw = {}'.format(round(sparsify(mistake[0])[word]*opt_ws[0][word],4))\n",
    "        print '\\n'\n",
    "        num += 1\n",
    "    \n",
    "import sys\n",
    "with open('error_examples.txt', 'w') as f:\n",
    "    sys.stdout = f\n",
    "    error_analysis()\n",
    "    \n",
    "sys.stdout = sys.__stdout__"
   ]
  },
  {
   "cell_type": "markdown",
   "metadata": {},
   "source": [
    "# 8.2 Introducing bigram features"
   ]
  },
  {
   "cell_type": "code",
   "execution_count": null,
   "metadata": {
    "collapsed": true
   },
   "outputs": [],
   "source": [
    "shuffle_data(pickle_path = \"all_data_bigrams_pickled.p\", feature_set_func = read_data_bigrams)\n",
    "train_bigram_data, test_bigram_data = train_test_split(num_train = 1500, num_test = 500, pickle_path = \"all_data_bigrams_pickled.p\")"
   ]
  },
  {
   "cell_type": "code",
   "execution_count": null,
   "metadata": {
    "collapsed": true
   },
   "outputs": [],
   "source": [
    "bigram_weights = sparse_SVM_via_pegasos_with_W(train_bigram_data, max_epochs=100, lambda_reg=0.14, epsilon = 0.01)"
   ]
  },
  {
   "cell_type": "code",
   "execution_count": 675,
   "metadata": {
    "collapsed": false
   },
   "outputs": [
    {
     "data": {
      "image/png": "[encoded data removed]",
      "text/plain": [
       "<matplotlib.figure.Figure at 0x12a9028d0>"
      ]
     },
     "metadata": {},
     "output_type": "display_data"
    }
   ],
   "source": [
    "scores_actuals = []\n",
    "for obs in test_bigram_data:\n",
    "    scores_actuals.append([dotProduct(bigram_weights[0], sparsify(obs[:-1])), obs[-1]])\n",
    "scores_actuals = np.array(scores_actuals)\n",
    "plt.figure(figsize=(8,6))\n",
    "bins = np.linspace(-6, 6, 31)\n",
    "pos_bins = plt.hist(scores_actuals[scores_actuals[:,1] == 1., 0], bins, alpha=0.5, label='Positive (y = 1)')\n",
    "neg_bins = plt.hist(scores_actuals[scores_actuals[:,1] == -1., 0], bins, alpha=0.5, label='Negative (y = -1)')\n",
    "plt.legend(loc='best')\n",
    "plt.title('Distribution of scores for 1- and 2-grams')\n",
    "plt.xlabel(r'Score $\\left(f(x) = w^T x \\right)$')\n",
    "plt.ylabel('Frequency (count)')\n",
    "plt.savefig('figures/8_2_a.png')"
   ]
  },
  {
   "cell_type": "code",
   "execution_count": 683,
   "metadata": {
    "collapsed": false,
    "scrolled": true
   },
   "outputs": [],
   "source": [
    "## First sparsify all test_:\n",
    "sparse_bigram_testing = []\n",
    "for obs in test_bigram_data:\n",
    "    sparse_obs = {}\n",
    "    sparse_obs['xi'] = sparsify(obs[:-1])\n",
    "    sparse_obs['yi'] = obs[-1]\n",
    "    sparse_bigram_testing.append(sparse_obs)\n",
    "\n",
    "p_hat = sparse_0_1_loss(bigram_weights[0], sparse_bigram_testing)\n",
    "z_times_se = 1.96*((1-p_hat)*p_hat/len(sparse_bigram_testing))**0.5\n",
    "print p_hat - z_times_se, p_hat + z_times_se, "
   ]
  },
  {
   "cell_type": "markdown",
   "metadata": {},
   "source": [
    "# 8.2 continued"
   ]
  },
  {
   "cell_type": "code",
   "execution_count": 657,
   "metadata": {
    "collapsed": false
   },
   "outputs": [],
   "source": [
    "## Toy data to simulate df/idf\n",
    "\n",
    "a = Counter({'fish':1, 'dog':2})\n",
    "b = Counter({'fish':2, 'god':2})\n",
    "c = Counter({'fish':2, 'dog':1})\n",
    "\n",
    "fake_data = [a,b,c]\n",
    "\n",
    "DF = Counter()\n",
    "for doc in fake_data:\n",
    "    boolean = Counter(list(set(doc)))\n",
    "    DF = DF + boolean\n",
    "\n",
    "print DF\n",
    "log_DF = {f: np.log(len(fake_data)/float(v)) for f,v in DF.items()}\n",
    "print log_DF\n",
    "\n",
    "for doc in fake_data:\n",
    "    num_terms = float(sum(doc.values()))\n",
    "    tf = {f: float(v)/num_terms for f, v in doc.items()}\n",
    "    tf_IDF = {f: v*log_DF[f] for f, v in tf.items() if v*log_DF[f] != 0.0}\n",
    "    print doc, tf_IDF\n",
    "    "
   ]
  },
  {
   "cell_type": "code",
   "execution_count": 658,
   "metadata": {
    "collapsed": false
   },
   "outputs": [],
   "source": [
    "def tf_idf_conversion(training_data, test_data):\n",
    "    tf_IDF_training_data = []\n",
    "    tf_IDF_test_data = []    \n",
    "    \n",
    "    print 'starting to get DF'\n",
    "    DF = Counter()\n",
    "    for doc in training_data:\n",
    "        boolean = Counter({word: 1.0 for word in doc[:-1]})\n",
    "        DF = DF + boolean\n",
    "    \n",
    "    log_DF = Counter({f: np.log(len(training_data)/float(v)) for f,v in DF.items()})\n",
    "    print 'got DF. starting tf_idf_conversion for training data'\n",
    "    \n",
    "    for doc in training_data:\n",
    "        count_doc = Counter(doc[:-1])\n",
    "        num_terms = float(sum(count_doc.values()))\n",
    "        tf = {f: float(v)/num_terms for f, v in count_doc.items()}\n",
    "        tf_IDF_training_data.append({'xi':{f: v*log_DF[f] for f, v in tf.items() if v*log_DF[f] != 0.0}, 'yi':doc[-1]})\n",
    "    \n",
    "    print 'got training data. starting tf_idf_conversion for testing data'\n",
    "    for doc in test_data:\n",
    "        count_doc = Counter(doc[:-1])\n",
    "        num_terms = float(sum(count_doc.values()))\n",
    "        tf = {f: float(v)/num_terms for f, v in count_doc.items()}\n",
    "        tf_IDF_test_data.append({'xi':{f: v*log_DF[f] for f, v in tf.items() if v*log_DF[f] != 0.0}, 'yi':doc[-1]})\n",
    " \n",
    "    return tf_IDF_training_data, tf_IDF_test_data"
   ]
  },
  {
   "cell_type": "markdown",
   "metadata": {},
   "source": [
    "## TF-IDF with 1-grams"
   ]
  },
  {
   "cell_type": "code",
   "execution_count": null,
   "metadata": {
    "collapsed": true
   },
   "outputs": [],
   "source": [
    "tf_IDF_train_data, tf_IDF_test_data = tf_idf_conversion(train_data, test_data)\n",
    "print 'Converted to tfidf'\n",
    "tf_IDF_weights = sparse_SVM_via_pegasos_with_W(tf_IDF_train_data, max_epochs=100, lambda_reg=0.14, sparsified = True, epsilon = 0.0001)\n",
    "print 'fit weights'\n"
   ]
  },
  {
   "cell_type": "code",
   "execution_count": 671,
   "metadata": {
    "collapsed": false
   },
   "outputs": [
    {
     "data": {
      "image/png": "[encoded data removed]",
      "text/plain": [
       "<matplotlib.figure.Figure at 0x149bcb250>"
      ]
     },
     "metadata": {},
     "output_type": "display_data"
    }
   ],
   "source": [
    "scores_actuals = []\n",
    "for obs in tf_IDF_test_data:\n",
    "    scores_actuals.append([dotProduct(tf_IDF_weights[0], obs['xi']), obs['yi']])\n",
    "scores_actuals = np.array(scores_actuals)\n",
    "plt.figure(figsize=(8,6))\n",
    "bins = np.linspace(np.min(scores_actuals[:,0]), np.max(scores_actuals[:,0]), 31)\n",
    "pos_bins = plt.hist(scores_actuals[scores_actuals[:,1] == 1., 0], bins, alpha=0.5, label='Positive (y = 1)')\n",
    "neg_bins = plt.hist(scores_actuals[scores_actuals[:,1] == -1., 0], bins, alpha=0.5, label='Negative (y = -1)')\n",
    "plt.legend(loc='best')\n",
    "plt.title('Distribution of scores for 1-grams in TF-IDF representation')\n",
    "plt.xlabel(r'Score $\\left(f(x) = w^T x \\right)$')\n",
    "plt.ylabel('Frequency (count)')\n",
    "plt.savefig('figures/8_2_b.png')"
   ]
  },
  {
   "cell_type": "code",
   "execution_count": 685,
   "metadata": {
    "collapsed": false
   },
   "outputs": [],
   "source": [
    "p_hat = sparse_0_1_loss(tf_IDF_weights[0], tf_IDF_test_data)\n",
    "z_times_se = 1.96*((1-p_hat)*p_hat/len(tf_IDF_test_data))**0.5\n",
    "print p_hat\n",
    "print p_hat - z_times_se, p_hat + z_times_se, "
   ]
  },
  {
   "cell_type": "markdown",
   "metadata": {},
   "source": [
    "## TF-IDF with bigrams"
   ]
  },
  {
   "cell_type": "code",
   "execution_count": 663,
   "metadata": {
    "collapsed": true
   },
   "outputs": [],
   "source": [
    "tf_IDF_bigram_training_data, tf_IDF_bigram_test_data = tf_idf_conversion(train_bigram_data, test_bigram_data)\n",
    "print 'Converted to tfidf'"
   ]
  },
  {
   "cell_type": "code",
   "execution_count": 664,
   "metadata": {
    "collapsed": true
   },
   "outputs": [],
   "source": [
    "tf_IDF_bigram_weights = sparse_SVM_via_pegasos_with_W(tf_IDF_bigram_training_data, max_epochs=100, lambda_reg=0.14, sparsified = True, epsilon = 0.0001)\n",
    "print 'fit weights'"
   ]
  },
  {
   "cell_type": "code",
   "execution_count": 673,
   "metadata": {
    "collapsed": false
   },
   "outputs": [
    {
     "data": {
      "image/png": "[encoded data removed]",
      "text/plain": [
       "<matplotlib.figure.Figure at 0x152b77890>"
      ]
     },
     "metadata": {},
     "output_type": "display_data"
    }
   ],
   "source": [
    "scores_actuals = []\n",
    "for obs in tf_IDF_bigram_test_data:\n",
    "    scores_actuals.append([dotProduct(tf_IDF_bigram_weights[0], obs['xi']), obs['yi']])\n",
    "scores_actuals = np.array(scores_actuals)\n",
    "plt.figure(figsize=(8,6))\n",
    "bins = np.linspace(np.min(scores_actuals[:,0]), np.max(scores_actuals[:,0]), 31)\n",
    "pos_bins = plt.hist(scores_actuals[scores_actuals[:,1] == 1., 0], bins, alpha=0.5, label='Positive (y = 1)')\n",
    "neg_bins = plt.hist(scores_actuals[scores_actuals[:,1] == -1., 0], bins, alpha=0.5, label='Negative (y = -1)')\n",
    "plt.legend(loc='best')\n",
    "plt.title('Distribution of scores for 1- and 2-grams in TF-IDF representation')\n",
    "plt.xlabel(r'Score $\\left(f(x) = w^T x \\right)$')\n",
    "plt.ylabel('Frequency (count)')\n",
    "plt.savefig('figures/8_2_c.png')"
   ]
  },
  {
   "cell_type": "code",
   "execution_count": 686,
   "metadata": {
    "collapsed": false
   },
   "outputs": [],
   "source": [
    "p_hat = sparse_0_1_loss(tf_IDF_bigram_weights[0], tf_IDF_bigram_test_data)\n",
    "z_times_se = 1.96*((1-p_hat)*p_hat/len(tf_IDF_test_data))**0.5\n",
    "print p_hat\n",
    "print p_hat - z_times_se, p_hat + z_times_se, "
   ]
  }
 ],
 "metadata": {
  "kernelspec": {
   "display_name": "Python 2",
   "language": "python",
   "name": "python2"
  },
  "language_info": {
   "codemirror_mode": {
    "name": "ipython",
    "version": 2
   },
   "file_extension": ".py",
   "mimetype": "text/x-python",
   "name": "python",
   "nbconvert_exporter": "python",
   "pygments_lexer": "ipython2",
   "version": "2.7.10"
  }
 },
 "nbformat": 4,
 "nbformat_minor": 0
}
