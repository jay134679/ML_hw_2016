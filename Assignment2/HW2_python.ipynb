{
 "cells": [
  {
   "cell_type": "markdown",
   "metadata": {},
   "source": [
    "# Assignment 2- Ben Jakubowski (buj201)\n",
    "\n",
    "## 1. Preliminaries\n",
    "### 1.1. Dataset constructions"
   ]
  },
  {
   "cell_type": "code",
   "execution_count": 2,
   "metadata": {
    "collapsed": false
   },
   "outputs": [],
   "source": [
    "##1.1.1 Construct design matrix\n",
    "\n",
    "import numpy as np\n",
    "\n",
    "np.random.seed(1364)\n",
    "X = np.random.rand(150, 75)"
   ]
  },
  {
   "cell_type": "code",
   "execution_count": 3,
   "metadata": {
    "collapsed": false
   },
   "outputs": [],
   "source": [
    "##1.1.2 Construct a true weight vector\n",
    "\n",
    "theta_true = np.zeros(75)\n",
    "theta_true[0:10] = np.random.choice([-10,10], size=10, replace=True)"
   ]
  },
  {
   "cell_type": "code",
   "execution_count": 4,
   "metadata": {
    "collapsed": false
   },
   "outputs": [],
   "source": [
    "##1.1.3 Construct response vector\n",
    "\n",
    "y = np.dot(X, theta_true) + 0.1*np.random.randn(150)"
   ]
  },
  {
   "cell_type": "code",
   "execution_count": 5,
   "metadata": {
    "collapsed": true
   },
   "outputs": [],
   "source": [
    "##1.1.4 Split training/test\n",
    "\n",
    "permute = np.random.permutation(150)\n",
    "X = X[permute]\n",
    "y = y[permute]\n",
    "\n",
    "X_train, y_train = X[0:80,], y[0:80]\n",
    "X_val, y_val = X[80:100,], y[80:100]\n",
    "X_test, y_test = X[100:150,], y[100:150]"
   ]
  },
  {
   "cell_type": "markdown",
   "metadata": {},
   "source": [
    "### 1.2. Experiments with Ridge Regression"
   ]
  },
  {
   "cell_type": "code",
   "execution_count": 6,
   "metadata": {
    "collapsed": false
   },
   "outputs": [
    {
     "name": "stdout",
     "output_type": "stream",
     "text": [
      "Lambda\tTrain loss\tVal loss\n",
      "1e-06 0.000176943206147 0.13367126787\n",
      "2e-06 0.000180078950469 0.123000934743\n",
      "3e-06 0.00018519265538 0.113348362788\n",
      "4e-06 0.000192197523344 0.104664848192\n",
      "5e-06 0.000201013280041 0.0968827538049\n",
      "6e-06 0.00021155836255 0.0900032342051\n",
      "7e-06 0.000223800614149 0.0836889894091\n",
      "8e-06 0.000237591653214 0.0784603387534\n",
      "9e-06 0.000252908644897 0.0739910888269\n",
      "1e-05 0.000269686285448 0.0702479536749\n",
      "1.1e-05 0.000287869930729 0.0671959473429\n",
      "1.2e-05 0.000307411290354 0.0648054183877\n",
      "1.3e-05 0.000328242464015 0.0630439474128\n",
      "1.4e-05 0.00035031928528 0.061885241786\n",
      "1.5e-05 0.000373606909712 0.0613172197258\n",
      "1.6e-05 0.000398041387529 0.0612836581035\n",
      "1.7e-05 0.000423588332785 0.0617761931967\n",
      "1.8e-05 0.000450217184858 0.062787214209\n",
      "1.9e-05 0.000477911462335 0.0643009403759\n",
      "2e-05 0.000506561415843 0.0662366429585\n",
      "2.1e-05 0.000536173111314 0.0686120293693\n",
      "2.2e-05 0.000566714889568 0.0714085494659\n",
      "2.3e-05 0.000598155567764 0.074607706263\n",
      "2.4e-05 0.000630462191035 0.0781925573531\n",
      "2.5e-05 0.000663598191143 0.0821460393634\n",
      "2.6e-05 0.000697548554924 0.0864523397711\n",
      "2.7e-05 0.000732284950525 0.0910982311771\n",
      "2.8e-05 0.000767773180866 0.0960671681694\n",
      "2.9e-05 0.000803998582205 0.101346079142\n",
      "3e-05 0.000840925804083 0.10692200952\n",
      "3.1e-05 0.000878548590563 0.112784005925\n",
      "3.2e-05 0.000916836169646 0.118917589056\n",
      "3.3e-05 0.000955760751355 0.125310477507\n",
      "3.4e-05 0.000995479454866 0.131929912668\n",
      "3.5e-05 0.00103564078866 0.138821915574\n",
      "3.6e-05 0.00107636358899 0.145903637187\n",
      "3.7e-05 0.00111768244766 0.153243831458\n",
      "3.8e-05 0.00115955404106 0.160794124428\n",
      "3.9e-05 0.00120196370825 0.168544263032\n",
      "4e-05 0.00124487351302 0.176449055669\n",
      "4.1e-05 0.00128831338231 0.184577616367\n",
      "4.2e-05 0.00133225094271 0.1928836356\n",
      "4.3e-05 0.00137666144622 0.20135763668\n",
      "4.4e-05 0.00142148484143 0.209880242385\n",
      "4.5e-05 0.00146682170276 0.218673075067\n",
      "4.6e-05 0.00151259535134 0.227613851227\n",
      "4.7e-05 0.00155879833394 0.23669644921\n",
      "4.8e-05 0.00160542987333 0.245916128093\n",
      "4.9e-05 0.00165245360564 0.2552624907\n",
      "5e-05 0.0016998870131 0.264735642163\n",
      "5.1e-05 0.00174769541266 0.274324767379\n",
      "5.2e-05 0.00179587750969 0.284027110754\n",
      "5.3e-05 0.00184444082409 0.293839460145\n",
      "5.4e-05 0.00189335635217 0.30375455574\n",
      "5.5e-05 0.00194261955926 0.313768236513\n",
      "5.6e-05 0.00199222446515 0.323876763926\n",
      "5.7e-05 0.00204214712081 0.3340703015\n",
      "5.8e-05 0.00209240328495 0.344353512392\n",
      "5.9e-05 0.00214297903199 0.354718489718\n",
      "6e-05 0.00219385918007 0.365161333743\n",
      "6.1e-05 0.0022450394217 0.375677812078\n",
      "6.2e-05 0.00229652416653 0.386271033886\n",
      "6.3e-05 0.00234824415418 0.396823207664\n",
      "6.4e-05 0.00240027032147 0.407553320623\n",
      "6.5e-05 0.0024526049532 0.418361677336\n",
      "6.6e-05 0.0025051869058 0.429201555301\n",
      "6.7e-05 0.00255803225725 0.440088863681\n",
      "6.8e-05 0.00261112516531 0.451020973098\n",
      "6.9e-05 0.00266446553618 0.461999283139\n",
      "7e-05 0.00271805228242 0.473016066594\n",
      "7.1e-05 0.00277192074618 0.484092113453\n",
      "7.2e-05 0.00282592780769 0.495101639509\n",
      "7.3e-05 0.00288020985298 0.506246708959\n",
      "7.4e-05 0.00293475344334 0.517436537009\n",
      "7.5e-05 0.00298950326249 0.528653359699\n",
      "7.6e-05 0.00304445184113 0.539894825663\n",
      "7.7e-05 0.00309961181576 0.551169751906\n",
      "7.8e-05 0.00315495378714 0.562463133654\n",
      "7.9e-05 0.00321055560594 0.573797226687\n",
      "8e-05 0.00326630946534 0.585138586609\n",
      "8.1e-05 0.00332229644273 0.596514156826\n",
      "8.2e-05 0.00337845254659 0.607902078573\n",
      "8.3e-05 0.00343478564523 0.619304176734\n",
      "8.4e-05 0.00349130632113 0.630723983869\n",
      "8.5e-05 0.00354834069181 0.642109998985\n",
      "8.6e-05 0.00360523738709 0.653567311675\n",
      "8.7e-05 0.0036622698617 0.665018334978\n",
      "8.8e-05 0.00371947455541 0.676486342032\n",
      "8.9e-05 0.00377685915296 0.687960881466\n",
      "9e-05 0.00384039174497 0.698178315372\n",
      "9.1e-05 0.00389784074741 0.709703298899\n",
      "9.2e-05 0.00395561734903 0.721230214735\n",
      "9.3e-05 0.0040135438399 0.732757248483\n",
      "9.4e-05 0.00407163682982 0.74428822288\n",
      "9.5e-05 0.00412987106096 0.755816117829\n",
      "9.6e-05 0.00418826360892 0.767347230748\n",
      "9.7e-05 0.00424679682265 0.778873971233\n",
      "9.8e-05 0.00430547098738 0.790394754717\n",
      "9.9e-05 0.00436429161981 0.801915739916\n",
      "0.0001 0.00442306776056 0.813393745575\n"
     ]
    }
   ],
   "source": [
    "##1.2.1 Run ridge regression \n",
    "\n",
    "import numpy\n",
    "from scipy.optimize import minimize\n",
    "\n",
    "(N,D) = X_train.shape\n",
    "X = X_train\n",
    "y = y_train\n",
    "\n",
    "\n",
    "w = numpy.random.rand(D,1)\n",
    "\n",
    "def ridge(Lambda):\n",
    "    def ridge_obj(theta):\n",
    "        return ((np.linalg.norm(np.dot(X,theta) - y))**2)/(2*N) + Lambda*(np.linalg.norm(theta))**2\n",
    "    return ridge_obj\n",
    "\n",
    "def compute_loss(Lambda, theta, val=True):\n",
    "    if val==True:\n",
    "        return ((np.linalg.norm(np.dot(X_val,theta) - y_val))**2)/(2*X_val.shape[0])\n",
    "    else:\n",
    "        return ((np.linalg.norm(np.dot(X,theta) - y))**2)/(2*N)\n",
    "\n",
    "w_opts = {}\n",
    "loss_array = np.zeros((100,3))\n",
    "lambdas = np.linspace(0.000001, 0.0001, 100)\n",
    "print 'Lambda\\tTrain loss\\tVal loss'\n",
    "for i in range(100):\n",
    "    Lambda = lambdas[i];\n",
    "    w_opt = minimize(ridge(Lambda), w)\n",
    "    train_loss = compute_loss(Lambda, w_opt.x, val=False)\n",
    "    val_loss = compute_loss(Lambda, w_opt.x, val=True)\n",
    "    loss_array[i,] = np.array([Lambda, train_loss, val_loss])\n",
    "    print Lambda, train_loss, val_loss\n",
    "    w_opts[str(Lambda)] = w_opt.x"
   ]
  },
  {
   "cell_type": "code",
   "execution_count": 7,
   "metadata": {
    "collapsed": false
   },
   "outputs": [
    {
     "data": {
      "image/png": "[encoded data removed]",
      "text/plain": [
       "<matplotlib.figure.Figure at 0x1073e0450>"
      ]
     },
     "metadata": {},
     "output_type": "display_data"
    }
   ],
   "source": [
    "##1.2.1 Run ridge regression CONTINUED\n",
    "\n",
    "import matplotlib.pyplot as plt\n",
    "%matplotlib inline\n",
    "\n",
    "plt.figure(figsize=(8,6))\n",
    "plt.plot(loss_array[:,0], loss_array[:,1], label='Training loss')\n",
    "plt.plot(loss_array[:,0], loss_array[:,2], label='Validation loss')\n",
    "plt.legend(loc='best')\n",
    "plt.ylabel('Total square square loss')\n",
    "plt.xlabel(r'$\\lambda$ ($\\ell_2$ regularization coefficient)')\n",
    "plt.title('Model performance for different values of $\\lambda$')\n",
    "plt.savefig('figures/1_2_1.png')"
   ]
  },
  {
   "cell_type": "code",
   "execution_count": 19,
   "metadata": {
    "collapsed": false
   },
   "outputs": [
    {
     "name": "stdout",
     "output_type": "stream",
     "text": [
      "Num w[0:10] not zero:  10\n",
      "Num w[0:10] not within 1e-3 of zero:  10\n",
      "Num w[0:10] not within 1e-2 of zero:  10\n",
      "Num w[0:10] not within 1e-2 of zero:  10\n",
      "Num w[10:] zero:  0\n",
      "Num w[10:] within 1e-3 of zero:  0\n",
      "Num w[10:] within 1e-2 of zero:  5\n",
      "Num w[10:] within 1e-2 of zero:  37\n"
     ]
    }
   ],
   "source": [
    "##1.2.1 Run ridge regression CONTINUED\n",
    "\n",
    "print 'Num w[0:10] not zero: ', np.sum(np.abs(w_opts['1.6e-05'][0:10]) != 0.0)\n",
    "print 'Num w[0:10] not within 1e-3 of zero: ', np.sum(np.abs(w_opts['1.6e-05'][0:10]) > 1.0e-3)\n",
    "print 'Num w[0:10] not within 1e-2 of zero: ', np.sum(np.abs(w_opts['1.6e-05'][0:10]) > 1.0e-2)\n",
    "print 'Num w[0:10] not within 1e-2 of zero: ', np.sum(np.abs(w_opts['1.6e-05'][0:10]) > 1.0e-1)\n",
    "print 'Num w[10:] zero: ', np.sum(np.abs(w_opts['1.6e-05'][10:]) == 0.0)\n",
    "print 'Num w[10:] within 1e-3 of zero: ', np.sum(np.abs(w_opts['1.6e-05'][10:]) <= 1.0e-03)\n",
    "print 'Num w[10:] within 1e-2 of zero: ', np.sum(np.abs(w_opts['1.6e-05'][10:]) <= 1.0e-02)\n",
    "print 'Num w[10:] within 1e-2 of zero: ', np.sum(np.abs(w_opts['1.6e-05'][10:]) <= 1.0e-01)"
   ]
  },
  {
   "cell_type": "markdown",
   "metadata": {},
   "source": [
    "## 2. Coordinate Descent for Lasso\n",
    "### 2.1. Experiments with the Shooting Algorithm"
   ]
  },
  {
   "cell_type": "code",
   "execution_count": 27,
   "metadata": {
    "collapsed": false
   },
   "outputs": [],
   "source": [
    "##2.1.1 Implement looping shooting algorithm\n",
    "\n",
    "def drop_j(input_array, j):\n",
    "    '''\n",
    "    Takes a 1 or 2 dimensional input_array and an index j.\n",
    "    If input_array a 1D array:\n",
    "        - returns an array of lenght n-1 with the jth entry dropped.\n",
    "    If input_array a 2D array:\n",
    "        - returns an nx(d-1) 2D array (i.e. jth column dropped)\n",
    "    \n",
    "    Args:\n",
    "        input_array - A numpy array of length n\n",
    "        j - an index to drop\n",
    "        \n",
    "    Returns:\n",
    "        dropped_array - a numpy array of the form [0,...,j-1,j+1,...,j]\n",
    "    '''\n",
    "    if len(input_array.shape) == 1:\n",
    "        n = len(input_array)\n",
    "        if j == 0:\n",
    "            return input_array[1:n+1]\n",
    "        elif j<n:\n",
    "            return input_array[np.concatenate((np.arange(0,j),np.arange(j+1,n)), axis=0)]\n",
    "        elif j == n:\n",
    "            return input_array[0:n]\n",
    "        else:\n",
    "            print \"J > len(input_array). Returning input_array\"\n",
    "            return input_array\n",
    "    elif len(input_array.shape) == 2:\n",
    "        n = input_array.shape[1]\n",
    "        if j == 0:\n",
    "            return input_array[:,1:n+1]\n",
    "        elif j<n:\n",
    "            return input_array[:, np.concatenate((np.arange(0,j),np.arange(j+1,n)), axis=0)]\n",
    "        elif j == n:\n",
    "            return input_array[:, 0:n]\n",
    "        else:\n",
    "            print \"J > Number of attributes. Returning input_array\"\n",
    "            return input_array"
   ]
  },
  {
   "cell_type": "code",
   "execution_count": 28,
   "metadata": {
    "collapsed": true
   },
   "outputs": [],
   "source": [
    "##2.1.1 Implement looping shooting algorithm CONTINUED\n",
    "\n",
    "def w_j_hat(a_j, c_j, lambda_reg):\n",
    "    if c_j < -lambda_reg:\n",
    "        return (c_j + lambda_reg)/a_j\n",
    "    elif np.abs(c_j) <= lambda_reg:\n",
    "        return 0.0\n",
    "    elif c_j > lambda_reg:\n",
    "        return (c_j - lambda_reg)/a_j"
   ]
  },
  {
   "cell_type": "code",
   "execution_count": 44,
   "metadata": {
    "collapsed": true
   },
   "outputs": [],
   "source": [
    "##2.1.1 Implement looping shooting algorithm CONTINUED\n",
    "\n",
    "def lass_solver_looping(lambda_reg, starting_point, num_iter=100, tol=1.0e-6):\n",
    "    w_1 = starting_point.copy()\n",
    "    w_0 = w_1.copy()\n",
    "    iteration = 1\n",
    "    within_tol = False\n",
    "    while (within_tol == False and iteration <= num_iter):\n",
    "        for j in range(D):\n",
    "            a_j = 0.0\n",
    "            c_j = 0.0\n",
    "            w_minus_j = drop_j(w_1, j)\n",
    "            for i in range(N):\n",
    "                a_j += 2.0 * X_train[i,j]**2   \n",
    "                c_j += 2.0 * X_train[i,j]*(y_train[i] - np.dot(w_minus_j,drop_j(X_train[i,:],j)))\n",
    "            w_1[j] = w_j_hat(a_j, c_j, lambda_reg)\n",
    "        within_tol = (np.dot(w_1 - w_0, w_1 - w_0)**(0.5) < tol)\n",
    "        w_0 = w_1.copy()\n",
    "        iteration += 1\n",
    "    return w_1"
   ]
  },
  {
   "cell_type": "code",
   "execution_count": 46,
   "metadata": {
    "collapsed": false
   },
   "outputs": [],
   "source": [
    "##2.1.1 Implement looping shooting algorithm \n",
    "\n",
    "def find_opt_lambda(solver=lass_solver_vectorized, n_tested_lambdas=50, starting_point=w_opts['1.6e-05'], num_iter=100, tol=1.0e-6):\n",
    "    n_tested_lambdas = n_tested_lambdas\n",
    "    loss_values = np.zeros((n_tested_lambdas,3))\n",
    "    lambda_regs_for_lass = np.logspace(-1,1, n_tested_lambdas)\n",
    "    for i in range(len(lambda_regs_for_lass)):\n",
    "        lambda_reg= lambda_regs_for_lass[i]\n",
    "        w_opt = solver(lambda_reg, w_opts['1.6e-05'], num_iter)\n",
    "        train_loss = 1.0/(2*X_train.shape[0])*np.dot(np.dot(X_train, w_opt) - y_train,np.dot(X_train, w_opt) - y_train)\n",
    "        val_loss = 1.0/(2*X_val.shape[0])*np.dot(np.dot(X_val, w_opt) - y_val,np.dot(X_val, w_opt) - y_val)\n",
    "        loss_values[i,] = [lambda_reg, train_loss, val_loss]\n",
    "    plt.figure(figsize=(8,6))\n",
    "    plt.xscale('log')\n",
    "    plt.ylim((0,0.05))\n",
    "    plt.plot(loss_values[:,0], loss_values[:,1], label='Training loss')\n",
    "    plt.plot(loss_values[:,0], loss_values[:,2], label='Validation loss')\n",
    "    plt.legend(loc='upper left')\n",
    "    plt.xlabel(r'$\\lambda$ (log scale)')\n",
    "    plt.ylabel('Square loss')\n",
    "    alg_type = solver.__name__.split('_')[-1]\n",
    "    plt.title('Model performance for the {} algorithm'.format(alg_type))\n",
    "    plt.savefig('figures/2_1_{}.png'.format(alg_type))\n",
    "    return loss_values"
   ]
  },
  {
   "cell_type": "code",
   "execution_count": 47,
   "metadata": {
    "collapsed": false,
    "scrolled": true
   },
   "outputs": [
    {
     "data": {
      "image/png": "[encoded data removed]",
      "text/plain": [
       "<matplotlib.figure.Figure at 0x1077bd710>"
      ]
     },
     "metadata": {},
     "output_type": "display_data"
    }
   ],
   "source": [
    "##2.1.1 Implement looping shooting algorithm CONTINUED\n",
    "\n",
    "non_vectorized = find_opt_lambda(solver = lass_solver_looping)"
   ]
  },
  {
   "cell_type": "code",
   "execution_count": 54,
   "metadata": {
    "collapsed": false
   },
   "outputs": [
    {
     "data": {
      "text/plain": [
       "array([[  1.59985872e-01,   1.80424625e-03,   1.35111054e-02],\n",
       "       [  1.75751062e-01,   1.87268952e-03,   1.17678734e-02],\n",
       "       [  1.93069773e-01,   1.94403512e-03,   1.06370775e-02],\n",
       "       [  2.12095089e-01,   2.04291499e-03,   1.01300831e-02],\n",
       "       [  2.32995181e-01,   2.15824068e-03,   1.00601019e-02],\n",
       "       [  2.55954792e-01,   2.32521806e-03,   1.00334270e-02],\n",
       "       [  2.81176870e-01,   2.56277544e-03,   9.94978722e-03],\n",
       "       [  3.08884360e-01,   2.74636827e-03,   9.68406436e-03],\n",
       "       [  3.39322177e-01,   2.92901040e-03,   8.96601461e-03],\n",
       "       [  3.72759372e-01,   3.16123358e-03,   8.43995319e-03],\n",
       "       [  4.09491506e-01,   3.33877045e-03,   8.05931179e-03],\n",
       "       [  4.49843267e-01,   3.64865446e-03,   7.78599631e-03],\n",
       "       [  4.94171336e-01,   3.99127696e-03,   7.57654951e-03],\n",
       "       [  5.42867544e-01,   4.18971275e-03,   7.60494586e-03],\n",
       "       [  5.96362332e-01,   4.29628358e-03,   7.50516297e-03],\n",
       "       [  6.55128557e-01,   4.32961307e-03,   7.59876397e-03],\n",
       "       [  7.19685673e-01,   4.54551727e-03,   7.77398038e-03],\n",
       "       [  7.90604321e-01,   4.81054898e-03,   8.09925633e-03],\n",
       "       [  8.68511374e-01,   5.10194460e-03,   8.38406016e-03],\n",
       "       [  9.54095476e-01,   5.43531043e-03,   8.47133549e-03],\n",
       "       [  1.04811313e+00,   5.81250930e-03,   8.53802769e-03],\n",
       "       [  1.15139540e+00,   6.25155548e-03,   8.64255766e-03],\n",
       "       [  1.26485522e+00,   6.76979946e-03,   8.78737348e-03],\n",
       "       [  1.38949549e+00,   7.37454735e-03,   9.03863402e-03],\n",
       "       [  1.52641797e+00,   8.10832003e-03,   9.46122990e-03],\n",
       "       [  1.67683294e+00,   9.00287356e-03,   9.98242829e-03],\n",
       "       [  1.84206997e+00,   1.00700930e-02,   1.06733170e-02],\n",
       "       [  2.02358965e+00,   1.13647415e-02,   1.15797934e-02],\n",
       "       [  2.22299648e+00,   1.29148261e-02,   1.27342408e-02],\n",
       "       [  2.44205309e+00,   1.47790235e-02,   1.41901365e-02]])"
      ]
     },
     "execution_count": 54,
     "metadata": {},
     "output_type": "execute_result"
    }
   ],
   "source": [
    "##2.1.1 Implement looping shooting algorithm CONTINUED\n",
    "\n",
    "non_vectorized[non_vectorized[:,2] <=0.015]"
   ]
  },
  {
   "cell_type": "code",
   "execution_count": 52,
   "metadata": {
    "collapsed": false
   },
   "outputs": [
    {
     "data": {
      "image/png": "[encoded data removed]",
      "text/plain": [
       "<matplotlib.figure.Figure at 0x109c3e090>"
      ]
     },
     "metadata": {},
     "output_type": "display_data"
    }
   ],
   "source": [
    "##2.1.2 Analyze sparsity of solution from looping shooting algorithm\n",
    "\n",
    "num_iters = range(10,510,20)\n",
    "learning_curve = np.zeros((len(num_iters),2))\n",
    "for i in range(len(num_iters)):\n",
    "    looping_ws = lass_solver_looping(np.logspace(-1,1, 50)[19], w_opts['1.6e-05'], num_iter=num_iters[i])\n",
    "    learning_curve[i,:] = [num_iters[i], np.sum(np.abs(looping_ws) == 0.0)]\n",
    "\n",
    "plt.figure(figsize=(8,6))\n",
    "plt.plot(learning_curve[:,0], learning_curve[:,1])\n",
    "plt.title('Learning curve: Number of iterations vs. sparsity')\n",
    "plt.xlabel('Number of iterations')\n",
    "plt.ylabel(r'Number of $w_j$ == 0')\n",
    "plt.savefig('figures/2_1_2.png')"
   ]
  },
  {
   "cell_type": "code",
   "execution_count": 57,
   "metadata": {
    "collapsed": false
   },
   "outputs": [
    {
     "name": "stdout",
     "output_type": "stream",
     "text": [
      "Num w[0:10] not zero:  10\n",
      "Num w[0:10] not within 1e-3 of zero:  10\n",
      "Num w[10:] zero:  54\n",
      "Num w[10:] within 1e-3 of zero:  54\n",
      "75\n"
     ]
    }
   ],
   "source": [
    "##2.1.2 Analyze sparsity of solution from looping shooting algorithm CONTINUED\n",
    "\n",
    "looping_ws = lass_solver_looping(np.logspace(-1,1, 50)[19], w_opts['1.6e-05'], 300)\n",
    "print 'Num w[0:10] not zero: ', np.sum(np.abs(looping_ws[0:10]) != 0.0)\n",
    "print 'Num w[0:10] not within 1e-3 of zero: ', np.sum(np.abs(looping_ws[0:10]) > 1e-3)\n",
    "print 'Num w[10:] zero: ', np.sum(np.abs(looping_ws[10:]) == 0.0)\n",
    "print 'Num w[10:] within 1e-3 of zero: ', np.sum(np.abs(looping_ws[10:]) < 1e-3)\n",
    "print len(looping_ws)"
   ]
  },
  {
   "cell_type": "code",
   "execution_count": 58,
   "metadata": {
    "collapsed": false
   },
   "outputs": [
    {
     "name": "stdout",
     "output_type": "stream",
     "text": [
      "9.89817449795 10.0311617974\n",
      "0.0548268082128\n"
     ]
    }
   ],
   "source": [
    "##2.1.2 Analyze sparsity of solution from looping shooting algorithm CONTINUED\n",
    "\n",
    "print np.min(np.abs(looping_ws[0:10])), np.max(np.abs(looping_ws[0:10]))\n",
    "print np.max(np.abs(looping_ws[10:]))"
   ]
  },
  {
   "cell_type": "code",
   "execution_count": 74,
   "metadata": {
    "collapsed": false
   },
   "outputs": [],
   "source": [
    "##2.1.3 Implement homotopy method for looping shooting algorithm\n",
    "\n",
    "\n",
    "def homotopy_method(solver = lass_solver_looping, lambda_regs = np.logspace(-1,1, 50), tol=1.0e-6):\n",
    "    starting_point = w_opts['1.6e-05']\n",
    "    loss_values = np.zeros((len(lambda_regs),3))\n",
    "    \n",
    "    for i in range(len(lambda_regs)):\n",
    "        lambda_reg = lambda_regs[i]\n",
    "        w_opt = solver(lambda_reg, starting_point, tol=tol)\n",
    "        train_loss = 1.0/(2*X_train.shape[0])*np.dot(np.dot(X_train, w_opt) - y_train,np.dot(X_train, w_opt) - y_train)\n",
    "        val_loss = 1.0/(2*X_val.shape[0])*np.dot(np.dot(X_val, w_opt) - y_val,np.dot(X_val, w_opt) - y_val)\n",
    "        loss_values[i,] = [lambda_reg, train_loss, val_loss]\n",
    "        starting_point = w_opt\n",
    "        \n",
    "    return loss_values"
   ]
  },
  {
   "cell_type": "code",
   "execution_count": 62,
   "metadata": {
    "collapsed": false
   },
   "outputs": [],
   "source": [
    "##2.1.3 Implement homotopy method for looping shooting algorithm\n",
    "\n",
    "test_homotopy = homotopy_method()"
   ]
  },
  {
   "cell_type": "code",
   "execution_count": 70,
   "metadata": {
    "collapsed": false
   },
   "outputs": [
    {
     "data": {
      "image/png": "[encoded data removed]",
      "text/plain": [
       "<matplotlib.figure.Figure at 0x109851750>"
      ]
     },
     "metadata": {},
     "output_type": "display_data"
    }
   ],
   "source": [
    "##2.1.3 Implement homotopy method for looping shooting algorithm\n",
    "\n",
    "plt.figure(figsize=[8,6])\n",
    "plt.xscale('log')\n",
    "plt.ylim((0,0.05))\n",
    "plt.xlim((1e-1,1e1))\n",
    "plt.plot(test_homotopy[:,0], test_homotopy[:,1], label='Training loss')\n",
    "plt.plot(test_homotopy[:,0], test_homotopy[:,2], label='Validation loss')\n",
    "plt.legend(loc='upper left')\n",
    "plt.xlabel(r'$\\lambda$ (log scale)')\n",
    "plt.ylabel('Square loss')\n",
    "plt.title('Model performance for homotopy method (with looping algorithm)')\n",
    "plt.savefig('figures/2_1_3.png')"
   ]
  },
  {
   "cell_type": "code",
   "execution_count": 73,
   "metadata": {
    "collapsed": true
   },
   "outputs": [],
   "source": [
    "##2.1.3 Implement homotopy method for looping shooting algorithm\n",
    "\n",
    "def test_speed_looping_no_homotopy(solver=lass_solver_looping, n_tested_lambdas=50, starting_point=w_opts['1.6e-05'], num_iter=100, tol=1.0e-6):\n",
    "    n_tested_lambdas = n_tested_lambdas\n",
    "    loss_values = np.zeros((n_tested_lambdas,3))\n",
    "    lambda_regs_for_lass = np.logspace(-1,1, n_tested_lambdas)\n",
    "    for i in range(len(lambda_regs_for_lass)):\n",
    "        lambda_reg= lambda_regs_for_lass[i]\n",
    "        w_opt = solver(lambda_reg, w_opts['1.6e-05'], num_iter)\n",
    "        train_loss = 1.0/(2*X_train.shape[0])*np.dot(np.dot(X_train, w_opt) - y_train,np.dot(X_train, w_opt) - y_train)\n",
    "        val_loss = 1.0/(2*X_val.shape[0])*np.dot(np.dot(X_val, w_opt) - y_val,np.dot(X_val, w_opt) - y_val)\n",
    "        loss_values[i,] = [lambda_reg, train_loss, val_loss]\n",
    "    return loss_values"
   ]
  },
  {
   "cell_type": "code",
   "execution_count": 72,
   "metadata": {
    "collapsed": false
   },
   "outputs": [
    {
     "name": "stdout",
     "output_type": "stream",
     "text": [
      "1 loops, best of 3: 4min 17s per loop\n",
      "1 loops, best of 3: 4min 5s per loop\n"
     ]
    }
   ],
   "source": [
    "##2.1.3 Implement homotopy method for looping shooting algorithm\n",
    "\n",
    "%timeit test_speed_looping_no_homotopy()\n",
    "%timeit homotopy_method()"
   ]
  },
  {
   "cell_type": "code",
   "execution_count": 75,
   "metadata": {
    "collapsed": false
   },
   "outputs": [
    {
     "name": "stdout",
     "output_type": "stream",
     "text": [
      "1 loops, best of 3: 4min 44s per loop\n",
      "1 loops, best of 3: 1min 16s per loop\n"
     ]
    }
   ],
   "source": [
    "##2.1.3 Implement homotopy method for looping shooting algorithm\n",
    "\n",
    "%timeit test_speed_looping_no_homotopy(tol=1.0e-3)\n",
    "%timeit homotopy_method(tol=1.0e-3)"
   ]
  },
  {
   "cell_type": "code",
   "execution_count": 45,
   "metadata": {
    "collapsed": false
   },
   "outputs": [],
   "source": [
    "##2.1.4 Implement vectorized shooting algorithm\n",
    "\n",
    "def lass_solver_vectorized(lambda_reg, starting_point, num_iter=100, tol=1.0e-6):\n",
    "    w_1 = starting_point.copy()\n",
    "    w_0 = w_1.copy()\n",
    "    iteration = 1\n",
    "    within_tol = False\n",
    "    while (within_tol == False and iteration <= num_iter):\n",
    "        for j in range(D):\n",
    "            a_j = 2.0 * np.sum(X_train[:,j]**2)    \n",
    "            c_j = 2.0 * np.sum(X_train[:,j]*(y_train - np.dot(drop_j(X_train,j), drop_j(w_1, j))))\n",
    "            w_1[j] = w_j_hat(a_j, c_j, lambda_reg)\n",
    "        within_tol = (np.dot(w_1 - w_0, w_1 - w_0)**(0.5) < tol)\n",
    "        w_0 = w_1.copy()\n",
    "        iteration += 1\n",
    "    return w_1"
   ]
  },
  {
   "cell_type": "code",
   "execution_count": 95,
   "metadata": {
    "collapsed": false
   },
   "outputs": [
    {
     "data": {
      "image/png": "[encoded data removed]",
      "text/plain": [
       "<matplotlib.figure.Figure at 0x10abe5f90>"
      ]
     },
     "metadata": {},
     "output_type": "display_data"
    }
   ],
   "source": [
    "##2.1.4 Implement vectorized shooting algorithm CONTINUED\n",
    "\n",
    "vectorized = find_opt_lambda()"
   ]
  },
  {
   "cell_type": "code",
   "execution_count": 96,
   "metadata": {
    "collapsed": false
   },
   "outputs": [
    {
     "data": {
      "text/plain": [
       "array([[  1.59985872e-01,   1.80424625e-03,   1.35111054e-02],\n",
       "       [  1.75751062e-01,   1.87268952e-03,   1.17678734e-02],\n",
       "       [  1.93069773e-01,   1.94403512e-03,   1.06370775e-02],\n",
       "       [  2.12095089e-01,   2.04291499e-03,   1.01300831e-02],\n",
       "       [  2.32995181e-01,   2.15824068e-03,   1.00601019e-02],\n",
       "       [  2.55954792e-01,   2.32521806e-03,   1.00334270e-02],\n",
       "       [  2.81176870e-01,   2.56277544e-03,   9.94978722e-03],\n",
       "       [  3.08884360e-01,   2.74636827e-03,   9.68406436e-03],\n",
       "       [  3.39322177e-01,   2.92901040e-03,   8.96601461e-03],\n",
       "       [  3.72759372e-01,   3.16123358e-03,   8.43995319e-03],\n",
       "       [  4.09491506e-01,   3.33877045e-03,   8.05931179e-03],\n",
       "       [  4.49843267e-01,   3.64865446e-03,   7.78599631e-03],\n",
       "       [  4.94171336e-01,   3.99127696e-03,   7.57654951e-03],\n",
       "       [  5.42867544e-01,   4.18971275e-03,   7.60494586e-03],\n",
       "       [  5.96362332e-01,   4.29628358e-03,   7.50516297e-03],\n",
       "       [  6.55128557e-01,   4.32961307e-03,   7.59876397e-03],\n",
       "       [  7.19685673e-01,   4.54551727e-03,   7.77398038e-03],\n",
       "       [  7.90604321e-01,   4.81054898e-03,   8.09925633e-03],\n",
       "       [  8.68511374e-01,   5.10194460e-03,   8.38406016e-03],\n",
       "       [  9.54095476e-01,   5.43531043e-03,   8.47133549e-03],\n",
       "       [  1.04811313e+00,   5.81250930e-03,   8.53802769e-03],\n",
       "       [  1.15139540e+00,   6.25155548e-03,   8.64255766e-03],\n",
       "       [  1.26485522e+00,   6.76979946e-03,   8.78737348e-03],\n",
       "       [  1.38949549e+00,   7.37454735e-03,   9.03863402e-03],\n",
       "       [  1.52641797e+00,   8.10832003e-03,   9.46122990e-03],\n",
       "       [  1.67683294e+00,   9.00287356e-03,   9.98242829e-03],\n",
       "       [  1.84206997e+00,   1.00700930e-02,   1.06733170e-02],\n",
       "       [  2.02358965e+00,   1.13647415e-02,   1.15797934e-02],\n",
       "       [  2.22299648e+00,   1.29148261e-02,   1.27342408e-02],\n",
       "       [  2.44205309e+00,   1.47790235e-02,   1.41901365e-02]])"
      ]
     },
     "execution_count": 96,
     "metadata": {},
     "output_type": "execute_result"
    }
   ],
   "source": [
    "##2.1.4 Implement vectorized shooting algorithm CONTINUED\n",
    "\n",
    "vectorized[vectorized[:,2] <=0.015]"
   ]
  },
  {
   "cell_type": "code",
   "execution_count": 76,
   "metadata": {
    "collapsed": false
   },
   "outputs": [
    {
     "name": "stdout",
     "output_type": "stream",
     "text": [
      "1 loops, best of 3: 332 ms per loop\n",
      "1 loops, best of 3: 4.62 s per loop\n"
     ]
    }
   ],
   "source": [
    "##2.1.4 Implement vectorized shooting algorithm CONTINUED\n",
    "\n",
    "%timeit lass_solver_vectorized(0.596, w_opts['1.6e-05'], num_iter=100)\n",
    "%timeit lass_solver_looping(0.596, w_opts['1.6e-05'], num_iter=100)"
   ]
  },
  {
   "cell_type": "code",
   "execution_count": 77,
   "metadata": {
    "collapsed": true
   },
   "outputs": [],
   "source": [
    "##2.1.4 Implement vectorized shooting algorithm CONTINUED\n",
    "\n",
    "compare_coef = lass_solver_vectorized(0.596, w_opts['1.6e-05'], num_iter=1000)"
   ]
  },
  {
   "cell_type": "code",
   "execution_count": 78,
   "metadata": {
    "collapsed": false
   },
   "outputs": [
    {
     "data": {
      "text/plain": [
       "array([  1.00311294e+01,  -9.95082905e+00,   9.89820960e+00,\n",
       "        -9.90223613e+00,  -9.89912976e+00,  -1.00294288e+01,\n",
       "        -9.96416719e+00,  -1.00117453e+01,  -9.99774458e+00,\n",
       "        -9.98069794e+00,   0.00000000e+00,   0.00000000e+00,\n",
       "         0.00000000e+00,   0.00000000e+00,  -1.24259844e-02,\n",
       "         0.00000000e+00,   0.00000000e+00,  -5.48065658e-02,\n",
       "         0.00000000e+00,   0.00000000e+00,   0.00000000e+00,\n",
       "         0.00000000e+00,  -1.58550337e-03,   0.00000000e+00,\n",
       "         0.00000000e+00,   0.00000000e+00,   0.00000000e+00,\n",
       "         0.00000000e+00,   0.00000000e+00,   0.00000000e+00,\n",
       "         0.00000000e+00,   0.00000000e+00,   0.00000000e+00,\n",
       "         0.00000000e+00,  -3.89355671e-02,   0.00000000e+00,\n",
       "        -2.10523405e-02,   0.00000000e+00,   0.00000000e+00,\n",
       "         0.00000000e+00,   0.00000000e+00,  -1.30452103e-02,\n",
       "         0.00000000e+00,   0.00000000e+00,  -3.17885380e-03,\n",
       "         0.00000000e+00,   0.00000000e+00,   0.00000000e+00,\n",
       "         0.00000000e+00,   0.00000000e+00,  -1.19096067e-03,\n",
       "         0.00000000e+00,  -3.70859030e-02,   0.00000000e+00,\n",
       "         0.00000000e+00,   0.00000000e+00,   0.00000000e+00,\n",
       "        -7.04455314e-03,  -1.55357911e-02,   0.00000000e+00,\n",
       "         0.00000000e+00,   0.00000000e+00,   0.00000000e+00,\n",
       "         0.00000000e+00,   0.00000000e+00,   0.00000000e+00,\n",
       "         0.00000000e+00,   0.00000000e+00,   0.00000000e+00,\n",
       "         0.00000000e+00,   0.00000000e+00,   0.00000000e+00,\n",
       "         0.00000000e+00,   0.00000000e+00,   0.00000000e+00])"
      ]
     },
     "execution_count": 78,
     "metadata": {},
     "output_type": "execute_result"
    }
   ],
   "source": [
    "##2.1.4 Implement vectorized shooting algorithm CONTINUED\n",
    "\n",
    "compare_coef"
   ]
  },
  {
   "cell_type": "markdown",
   "metadata": {
    "collapsed": true
   },
   "source": [
    "## 5. Project SGD via Variable Splitting"
   ]
  },
  {
   "cell_type": "code",
   "execution_count": 79,
   "metadata": {
    "collapsed": true
   },
   "outputs": [],
   "source": [
    "##5.1 Implement projected SGD via variable splitting for lasso\n",
    "\n",
    "def projected_SGD_gradients(index, lambda_reg, theta_plus, theta_minus):\n",
    "    x_i = X_train[index,:]\n",
    "    y_i = y_train[index]\n",
    "    grad_theta_plus = 2*X_train.shape[0]*x_i*(np.dot((theta_plus - theta_minus), x_i)-y_i) + lambda_reg\n",
    "    grad_theta_minus = -2*X_train.shape[0]*x_i*(np.dot((theta_plus - theta_minus), x_i)-y_i) + lambda_reg\n",
    "    return grad_theta_plus, grad_theta_minus"
   ]
  },
  {
   "cell_type": "code",
   "execution_count": 80,
   "metadata": {
    "collapsed": true
   },
   "outputs": [],
   "source": [
    "##5.1 Implement projected SGD via variable splitting for lasso CONTINUED\n",
    "\n",
    "def update_thetas(index, lambda_reg, theta_plus, theta_minus, alpha):\n",
    "    grad_theta_plus, grad_theta_minus = projected_SGD_gradients(index, lambda_reg, theta_plus, theta_minus)\n",
    "    theta_plus = theta_plus - alpha*grad_theta_plus\n",
    "    theta_plus = np.where(theta_plus>0, theta_plus, np.zeros_like(theta_plus))\n",
    "    theta_minus = theta_minus - alpha*grad_theta_minus\n",
    "    theta_minus = np.where(theta_minus>0, theta_minus, np.zeros_like(theta_minus))\n",
    "    return theta_plus, theta_minus"
   ]
  },
  {
   "cell_type": "code",
   "execution_count": 88,
   "metadata": {
    "collapsed": true
   },
   "outputs": [],
   "source": [
    "##5.1 Implement projected SGD via variable splitting for lasso CONTINUED\n",
    "\n",
    "def projected_sgd(alpha=0.1, lambda_reg=1, num_iter=1000):\n",
    "    theta_minus = np.where(w_opts['1.6e-05']<0, w_opts['1.6e-05'].copy(), np.zeros_like(w_opts['1.6e-05']))\n",
    "    theta_plus = np.where(w_opts['1.6e-05']>0, w_opts['1.6e-05'].copy(), np.zeros_like(w_opts['1.6e-05']))\n",
    "    \n",
    "    t = 1.0 ##Step counter    \n",
    "    ##Parse alpha\n",
    "    \n",
    "    if type(alpha) == float:\n",
    "        alpha = alpha\n",
    "        alpha_fun = (lambda t: alpha)\n",
    "    \n",
    "    elif alpha == \"1/sqrt(t)\":\n",
    "        alpha = 1.0/np.sqrt(t)\n",
    "        alpha_fun = (lambda t: 1/np.sqrt(t))\n",
    "    \n",
    "    elif alpha == \"1/t\":\n",
    "        alpha = 1.0/t\n",
    "        alpha_fun = (lambda t: 1/t)\n",
    "        \n",
    "    else:\n",
    "        raise ValueError('Alpha is (1) a float; (2) \"1/sqrt(t)\"; or (3) \"1/t\"')   \n",
    "        \n",
    "    np.random.seed(6354135)\n",
    "    for iteration in range(num_iter):\n",
    "        ##Shuffle the training data\n",
    "        permute = np.random.permutation(np.arange(X_train.shape[0]))\n",
    "        \n",
    "        for index in permute:\n",
    "            theta_plus, theta_minus = update_thetas(index, lambda_reg, theta_plus, theta_minus, alpha)\n",
    "            t += 1.0\n",
    "            alpha = alpha_fun(t)\n",
    "    \n",
    "    w_opt = theta_plus - theta_minus\n",
    "    train_loss = 1.0/(2*X_train.shape[0])*np.dot(np.dot(X_train, w_opt) - y_train,np.dot(X_train, w_opt) - y_train)\n",
    "    val_loss = 1.0/(2*X_val.shape[0])*np.dot(np.dot(X_val, w_opt) - y_val,np.dot(X_val, w_opt) - y_val)\n",
    "    loss_vals = [lambda_reg, train_loss, val_loss]\n",
    "    \n",
    "    return loss_vals"
   ]
  },
  {
   "cell_type": "code",
   "execution_count": 111,
   "metadata": {
    "collapsed": false
   },
   "outputs": [],
   "source": [
    "##5.1 Implement projected SGD via variable splitting for lasso CONTINUED\n",
    "\n",
    "def make_projected_sgd_plots(lambda_regs, alpha = '1/t', num_iter=1000):\n",
    "    num_lambdas = len(lambda_regs)\n",
    "    loss_vals = np.zeros((num_lambdas, 3))\n",
    "    for index in np.arange(num_lambdas):\n",
    "        lambda_reg = lambda_regs[index]\n",
    "        loss_val = projected_sgd(alpha, lambda_reg, num_iter)\n",
    "        loss_vals[index,:] = loss_val\n",
    "    \n",
    "    plt.figure(figsize=(8,6))\n",
    "    plt.xscale('log')\n",
    "    plt.ylim((0,0.05))\n",
    "    plt.xlim((1e-1,1e1))\n",
    "    plt.xlabel(r'$\\lambda$')\n",
    "    plt.ylabel('Squared loss')\n",
    "    plt.title(r'Using projected SGD to optimize $\\lambda$')\n",
    "    plt.plot(loss_vals[:,0], loss_vals[:,1], label='Training loss')\n",
    "    plt.plot(loss_vals[:,0], loss_vals[:,2], label='Validation loss')\n",
    "    plt.legend(loc='best')\n",
    "    plt.savefig('figures/5_1.png')\n",
    "    return loss_vals"
   ]
  },
  {
   "cell_type": "code",
   "execution_count": 114,
   "metadata": {
    "collapsed": false,
    "scrolled": true
   },
   "outputs": [
    {
     "data": {
      "image/png": "[encoded data removed]",
      "text/plain": [
       "<matplotlib.figure.Figure at 0x10d1dead0>"
      ]
     },
     "metadata": {},
     "output_type": "display_data"
    }
   ],
   "source": [
    "##5.1 Implement projected SGD via variable splitting for lasso CONTINUED\n",
    "\n",
    "lambda_regs_for_lass = np.logspace(-1,1,50)\n",
    "projected_SGD_loss = make_projected_sgd_plots(lambda_regs_for_lass, alpha=0.0001)"
   ]
  },
  {
   "cell_type": "code",
   "execution_count": 115,
   "metadata": {
    "collapsed": false
   },
   "outputs": [
    {
     "data": {
      "image/png": "[encoded data removed]",
      "text/plain": [
       "<matplotlib.figure.Figure at 0x109925d90>"
      ]
     },
     "metadata": {},
     "output_type": "display_data"
    }
   ],
   "source": [
    "##5.1 Implement projected SGD via variable splitting for lasso CONTINUED\n",
    "\n",
    "plt.figure(figsize=(8,6))\n",
    "plt.plot(vectorized[:,0], projected_SGD_loss[:,2] - vectorized[:,2], label='Difference in validation loss')\n",
    "plt.yscale('log')\n",
    "plt.xscale('log')\n",
    "plt.xlabel(r'$\\lambda$')\n",
    "plt.ylabel('Difference (projected sgd loss) - (coordinate descent)')\n",
    "plt.title('Comparing projected SGD and coordinate descent for lasso')\n",
    "plt.legend(loc='upper right')\n",
    "plt.savefig('figures/5_2.png')"
   ]
  },
  {
   "cell_type": "code",
   "execution_count": 117,
   "metadata": {
    "collapsed": true
   },
   "outputs": [],
   "source": [
    "##5.2 Analyze sparsity of solution from  projected SGD via variable splitting\n",
    "\n",
    "def projected_sgd_thetas(alpha=0.0001, lambda_reg=np.logspace(-1,1,50)[19], num_iter=1000):\n",
    "    theta_minus = np.where(w_opts['1.6e-05']<0, w_opts['1.6e-05'].copy(), np.zeros_like(w_opts['1.6e-05']))\n",
    "    theta_plus = np.where(w_opts['1.6e-05']>0, w_opts['1.6e-05'].copy(), np.zeros_like(w_opts['1.6e-05']))\n",
    "    \n",
    "    t = 1.0 ##Step counter    \n",
    "    ##Parse alpha\n",
    "    \n",
    "    if type(alpha) == float:\n",
    "        alpha = alpha\n",
    "        alpha_fun = (lambda t: alpha)\n",
    "    \n",
    "    elif alpha == \"1/sqrt(t)\":\n",
    "        alpha = 1.0/np.sqrt(t)\n",
    "        alpha_fun = (lambda t: 1/np.sqrt(t))\n",
    "    \n",
    "    elif alpha == \"1/t\":\n",
    "        alpha = 1.0/t\n",
    "        alpha_fun = (lambda t: 1/t)\n",
    "        \n",
    "    else:\n",
    "        raise ValueError('Alpha is (1) a float; (2) \"1/sqrt(t)\"; or (3) \"1/t\"')   \n",
    "        \n",
    "    np.random.seed(6354135)\n",
    "    for iteration in range(num_iter):\n",
    "        ##Shuffle the training data\n",
    "        permute = np.random.permutation(np.arange(X_train.shape[0]))\n",
    "        \n",
    "        for index in permute:\n",
    "            theta_plus, theta_minus = update_thetas(index, lambda_reg, theta_plus, theta_minus, alpha)\n",
    "            t += 1.0\n",
    "            alpha = alpha_fun(t)\n",
    "    \n",
    "    w_opt = theta_plus - theta_minus\n",
    "    \n",
    "    return w_opt"
   ]
  },
  {
   "cell_type": "code",
   "execution_count": 118,
   "metadata": {
    "collapsed": true
   },
   "outputs": [],
   "source": [
    "##5.2 Analyze sparsity of solution from  projected SGD via variable splitting CONTINUED\n",
    "\n",
    "projected_SGD_thetas = projected_sgd_thetas()"
   ]
  },
  {
   "cell_type": "code",
   "execution_count": 121,
   "metadata": {
    "collapsed": false
   },
   "outputs": [
    {
     "name": "stdout",
     "output_type": "stream",
     "text": [
      "Num w[0:10] not zero:  10\n",
      "Num w[0:10] not within 1e-3 of zero:  10\n",
      "Num w[0:10] not within 1e-2 of zero:  10\n",
      "Num w[10:] zero:  0\n",
      "Num w[10:] within 1e-3 of zero:  14\n",
      "Num w[10:] within 1e-2 of zero:  57\n"
     ]
    }
   ],
   "source": [
    "##5.2 Analyze sparsity of solution from  projected SGD via variable splitting CONTINUED\n",
    "\n",
    "print 'Num w[0:10] not zero: ', np.sum(np.abs(projected_SGD_thetas[0:10]) != 0.0)\n",
    "print 'Num w[0:10] not within 1e-3 of zero: ', np.sum(np.abs(projected_SGD_thetas[0:10]) > 1e-3)\n",
    "print 'Num w[0:10] not within 1e-2 of zero: ', np.sum(np.abs(projected_SGD_thetas[0:10]) > 1e-2)\n",
    "print 'Num w[10:] zero: ', np.sum(np.abs(projected_SGD_thetas[10:]) == 0.0)\n",
    "print 'Num w[10:] within 1e-3 of zero: ', np.sum(np.abs(projected_SGD_thetas[10:]) < 1e-3)\n",
    "print 'Num w[10:] within 1e-2 of zero: ', np.sum(np.abs(projected_SGD_thetas[10:]) < 1e-2)"
   ]
  }
 ],
 "metadata": {
  "kernelspec": {
   "display_name": "Python 2",
   "language": "python",
   "name": "python2"
  },
  "language_info": {
   "codemirror_mode": {
    "name": "ipython",
    "version": 2
   },
   "file_extension": ".py",
   "mimetype": "text/x-python",
   "name": "python",
   "nbconvert_exporter": "python",
   "pygments_lexer": "ipython2",
   "version": "2.7.10"
  }
 },
 "nbformat": 4,
 "nbformat_minor": 0
}
